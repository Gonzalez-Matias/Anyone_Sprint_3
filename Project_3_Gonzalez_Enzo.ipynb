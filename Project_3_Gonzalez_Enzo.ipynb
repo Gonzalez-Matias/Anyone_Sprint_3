{
  "cells": [
    {
      "cell_type": "markdown",
      "metadata": {
        "id": "view-in-github",
        "colab_type": "text"
      },
      "source": [
        "<a href=\"https://colab.research.google.com/github/Gonzalez-Matias/Anyone_Sprint_3/blob/main/Project_3_Gonzalez_Enzo.ipynb\" target=\"_parent\"><img src=\"https://colab.research.google.com/assets/colab-badge.svg\" alt=\"Open In Colab\"/></a>"
      ]
    },
    {
      "cell_type": "markdown",
      "metadata": {
        "id": "9d3c07ee-c3bf-4530-812a-36405502b38d"
      },
      "source": [
        "# Anyone AI"
      ],
      "id": "9d3c07ee-c3bf-4530-812a-36405502b38d"
    },
    {
      "cell_type": "markdown",
      "metadata": {
        "id": "12c65989-2d1a-4e6e-9332-092ff6830d29"
      },
      "source": [
        "# Project III - Home Credit Default Risk"
      ],
      "id": "12c65989-2d1a-4e6e-9332-092ff6830d29"
    },
    {
      "cell_type": "markdown",
      "metadata": {
        "id": "b5a8ce13-f23a-41bf-a8c7-d432ebcbe0c1"
      },
      "source": [
        "You've been learning a lot about Machine Learning Algorithms, now we you're gonna be asked to put it all together. "
      ],
      "id": "b5a8ce13-f23a-41bf-a8c7-d432ebcbe0c1"
    },
    {
      "cell_type": "markdown",
      "metadata": {
        "id": "58ca3658-e8a1-41ba-a823-1a88ca9ef34b"
      },
      "source": [
        "You will create a complete pipeline to preprocess the data, train your model and then predict values for the [Home Credit Default Risk](https://www.kaggle.com/competitions/home-credit-default-risk/) Kaggle competition."
      ],
      "id": "58ca3658-e8a1-41ba-a823-1a88ca9ef34b"
    },
    {
      "cell_type": "markdown",
      "metadata": {
        "id": "e396c950-04b0-453e-b930-a22a96cee2d1"
      },
      "source": [
        "## Introduction"
      ],
      "id": "e396c950-04b0-453e-b930-a22a96cee2d1"
    },
    {
      "cell_type": "markdown",
      "metadata": {
        "id": "6a305c07-e042-4c59-8aea-03475afc09dd"
      },
      "source": [
        "Kaggle is a web platform and community for data scientist and machine learning engineers where competetitions and datasets are regularly published.\n",
        "\n",
        "This particular competition is a binary Classification task: we want to predict whether the person applying for a home credit will be able to repay its debt or not. The competition finished 4 years ago, so you will find a lot of blog posts and code written for it, we encourage you to read everything you can about it.\n",
        "\n",
        "The dataset is composed of multiple files with different information about loands taken. In this project we're going to exclusively work with the main files: application_train.csv and application_test.csv.\n",
        "\n",
        "The competition uses [Area Under the ROC Curve](https://developers.google.com/machine-learning/crash-course/classification/roc-and-auc?hl=es_419) as the evaluation metric, so our models will have to return the probabilities that a loan is not paid for each row."
      ],
      "id": "6a305c07-e042-4c59-8aea-03475afc09dd"
    },
    {
      "cell_type": "code",
      "execution_count": null,
      "metadata": {
        "colab": {
          "base_uri": "https://localhost:8080/"
        },
        "id": "pWBLOJhL1Nen",
        "outputId": "dbde4f2f-773e-411d-849d-5a85d6eb8037"
      },
      "outputs": [
        {
          "output_type": "stream",
          "name": "stdout",
          "text": [
            "Collecting pyod\n",
            "  Downloading pyod-1.0.1.tar.gz (120 kB)\n",
            "\u001b[?25l\r\u001b[K     |██▊                             | 10 kB 20.1 MB/s eta 0:00:01\r\u001b[K     |█████▍                          | 20 kB 10.2 MB/s eta 0:00:01\r\u001b[K     |████████▏                       | 30 kB 8.1 MB/s eta 0:00:01\r\u001b[K     |██████████▉                     | 40 kB 3.6 MB/s eta 0:00:01\r\u001b[K     |█████████████▋                  | 51 kB 3.7 MB/s eta 0:00:01\r\u001b[K     |████████████████▎               | 61 kB 4.3 MB/s eta 0:00:01\r\u001b[K     |███████████████████             | 71 kB 4.5 MB/s eta 0:00:01\r\u001b[K     |█████████████████████▊          | 81 kB 4.7 MB/s eta 0:00:01\r\u001b[K     |████████████████████████▌       | 92 kB 5.3 MB/s eta 0:00:01\r\u001b[K     |███████████████████████████▏    | 102 kB 4.3 MB/s eta 0:00:01\r\u001b[K     |█████████████████████████████▉  | 112 kB 4.3 MB/s eta 0:00:01\r\u001b[K     |████████████████████████████████| 120 kB 4.3 MB/s \n",
            "\u001b[?25hRequirement already satisfied: joblib in /usr/local/lib/python3.7/dist-packages (from pyod) (1.1.0)\n",
            "Requirement already satisfied: matplotlib in /usr/local/lib/python3.7/dist-packages (from pyod) (3.2.2)\n",
            "Requirement already satisfied: numpy>=1.19 in /usr/local/lib/python3.7/dist-packages (from pyod) (1.21.6)\n",
            "Requirement already satisfied: numba>=0.51 in /usr/local/lib/python3.7/dist-packages (from pyod) (0.51.2)\n",
            "Collecting scipy>=1.5.1\n",
            "  Downloading scipy-1.7.3-cp37-cp37m-manylinux_2_12_x86_64.manylinux2010_x86_64.whl (38.1 MB)\n",
            "\u001b[K     |████████████████████████████████| 38.1 MB 58.4 MB/s \n",
            "\u001b[?25hRequirement already satisfied: scikit_learn>=0.20.0 in /usr/local/lib/python3.7/dist-packages (from pyod) (1.0.2)\n",
            "Requirement already satisfied: six in /usr/local/lib/python3.7/dist-packages (from pyod) (1.15.0)\n",
            "Requirement already satisfied: statsmodels in /usr/local/lib/python3.7/dist-packages (from pyod) (0.10.2)\n",
            "Requirement already satisfied: setuptools in /usr/local/lib/python3.7/dist-packages (from numba>=0.51->pyod) (57.4.0)\n",
            "Requirement already satisfied: llvmlite<0.35,>=0.34.0.dev0 in /usr/local/lib/python3.7/dist-packages (from numba>=0.51->pyod) (0.34.0)\n",
            "Requirement already satisfied: threadpoolctl>=2.0.0 in /usr/local/lib/python3.7/dist-packages (from scikit_learn>=0.20.0->pyod) (3.1.0)\n",
            "Requirement already satisfied: pyparsing!=2.0.4,!=2.1.2,!=2.1.6,>=2.0.1 in /usr/local/lib/python3.7/dist-packages (from matplotlib->pyod) (3.0.9)\n",
            "Requirement already satisfied: python-dateutil>=2.1 in /usr/local/lib/python3.7/dist-packages (from matplotlib->pyod) (2.8.2)\n",
            "Requirement already satisfied: kiwisolver>=1.0.1 in /usr/local/lib/python3.7/dist-packages (from matplotlib->pyod) (1.4.2)\n",
            "Requirement already satisfied: cycler>=0.10 in /usr/local/lib/python3.7/dist-packages (from matplotlib->pyod) (0.11.0)\n",
            "Requirement already satisfied: typing-extensions in /usr/local/lib/python3.7/dist-packages (from kiwisolver>=1.0.1->matplotlib->pyod) (4.2.0)\n",
            "Requirement already satisfied: patsy>=0.4.0 in /usr/local/lib/python3.7/dist-packages (from statsmodels->pyod) (0.5.2)\n",
            "Requirement already satisfied: pandas>=0.19 in /usr/local/lib/python3.7/dist-packages (from statsmodels->pyod) (1.3.5)\n",
            "Requirement already satisfied: pytz>=2017.3 in /usr/local/lib/python3.7/dist-packages (from pandas>=0.19->statsmodels->pyod) (2022.1)\n",
            "Building wheels for collected packages: pyod\n",
            "  Building wheel for pyod (setup.py) ... \u001b[?25l\u001b[?25hdone\n",
            "  Created wheel for pyod: filename=pyod-1.0.1-py3-none-any.whl size=147473 sha256=b13202b0ed223d49d61b0f54464d74aba4c8fe9070522a519933b96e6374bc50\n",
            "  Stored in directory: /root/.cache/pip/wheels/ea/c4/29/67ad87835b209f72e4706369c683741b09490f2829d64ea768\n",
            "Successfully built pyod\n",
            "Installing collected packages: scipy, pyod\n",
            "  Attempting uninstall: scipy\n",
            "    Found existing installation: scipy 1.4.1\n",
            "    Uninstalling scipy-1.4.1:\n",
            "      Successfully uninstalled scipy-1.4.1\n",
            "\u001b[31mERROR: pip's dependency resolver does not currently take into account all the packages that are installed. This behaviour is the source of the following dependency conflicts.\n",
            "albumentations 0.1.12 requires imgaug<0.2.7,>=0.2.5, but you have imgaug 0.2.9 which is incompatible.\u001b[0m\n",
            "Successfully installed pyod-1.0.1 scipy-1.7.3\n"
          ]
        }
      ],
      "source": [
        "!pip install pyod"
      ],
      "id": "pWBLOJhL1Nen"
    },
    {
      "cell_type": "code",
      "execution_count": null,
      "metadata": {
        "id": "Ch1HJUMweV3O"
      },
      "outputs": [],
      "source": [
        "! pip install -q kaggle"
      ],
      "id": "Ch1HJUMweV3O"
    },
    {
      "cell_type": "code",
      "source": [
        "!pip install xgboost"
      ],
      "metadata": {
        "colab": {
          "base_uri": "https://localhost:8080/"
        },
        "id": "ZvOwhmkQybWf",
        "outputId": "8b8cd7b4-bab2-462d-dea6-25ee20961830"
      },
      "id": "ZvOwhmkQybWf",
      "execution_count": null,
      "outputs": [
        {
          "output_type": "stream",
          "name": "stdout",
          "text": [
            "Requirement already satisfied: xgboost in /usr/local/lib/python3.7/dist-packages (0.90)\n",
            "Requirement already satisfied: scipy in /usr/local/lib/python3.7/dist-packages (from xgboost) (1.7.3)\n",
            "Requirement already satisfied: numpy in /usr/local/lib/python3.7/dist-packages (from xgboost) (1.21.6)\n"
          ]
        }
      ]
    },
    {
      "cell_type": "code",
      "execution_count": null,
      "metadata": {
        "id": "sCs3yxd5BjfV"
      },
      "outputs": [],
      "source": [
        "import time\n",
        "import pandas as pd\n",
        "import json\n",
        "import xgboost as xgb\n",
        "from datetime import datetime\n",
        "import numpy as np\n",
        "from sklearn.compose import ColumnTransformer\n",
        "from sklearn.impute import SimpleImputer\n",
        "import seaborn as sns\n",
        "import matplotlib.pyplot as plt\n",
        "import plotly.express as px\n",
        "from sklearn.model_selection import RandomizedSearchCV\n",
        "from lightgbm import LGBMClassifier\n",
        "from sklearn.linear_model import LogisticRegression\n",
        "from sklearn.ensemble import RandomForestClassifier\n",
        "from google.colab import files\n",
        "from sklearn.pipeline import Pipeline\n",
        "from sklearn.compose import make_column_selector as selector\n",
        "from sklearn.preprocessing import QuantileTransformer, OneHotEncoder\n",
        "from google.colab import data_table\n",
        "sns.set_theme()"
      ],
      "id": "sCs3yxd5BjfV"
    },
    {
      "cell_type": "markdown",
      "metadata": {
        "id": "3ab085b5-379c-4e02-9f96-08edf5dbf887"
      },
      "source": [
        "### Getting the data"
      ],
      "id": "3ab085b5-379c-4e02-9f96-08edf5dbf887"
    },
    {
      "cell_type": "markdown",
      "metadata": {
        "id": "73354ae2-3adf-43c7-b3f3-849db316bfd3"
      },
      "source": [
        "1- Login to Kaggle (if you don't have an account you'll have to register to get it) and download the [complete dataset](https://www.kaggle.com/competitions/home-credit-default-risk/data). Read the information about the data. What does a row in the main file represent? What does the target variable means?"
      ],
      "id": "73354ae2-3adf-43c7-b3f3-849db316bfd3"
    },
    {
      "cell_type": "markdown",
      "metadata": {
        "id": "c4f50673-a197-4ea4-99df-3d4435bd643d"
      },
      "source": [
        "One row represents one loan in our data sample.\n",
        "The target variable says wether the loan was repaid (0) or not (1)"
      ],
      "id": "c4f50673-a197-4ea4-99df-3d4435bd643d"
    },
    {
      "cell_type": "markdown",
      "metadata": {
        "id": "25a0a724-ceb1-40cb-b123-b8c907a9c06f"
      },
      "source": [
        "2- Load the training and test datasets, we're only going to work withe \"application_train.csv\" and \"application_test.csv\" for now"
      ],
      "id": "25a0a724-ceb1-40cb-b123-b8c907a9c06f"
    },
    {
      "cell_type": "code",
      "execution_count": null,
      "metadata": {
        "colab": {
          "base_uri": "https://localhost:8080/"
        },
        "id": "K1uzm9hfow-o",
        "outputId": "476b2dc9-606f-4fc9-cbf8-ee8a548944ae"
      },
      "outputs": [
        {
          "output_type": "stream",
          "name": "stdout",
          "text": [
            "Downloading home-credit-default-risk.zip to /content\n",
            " 98% 677M/688M [00:21<00:00, 27.5MB/s]\n",
            "100% 688M/688M [00:21<00:00, 33.7MB/s]\n",
            "Archive:  home-credit-default-risk.zip\n",
            "  inflating: home-credit-default-risk/HomeCredit_columns_description.csv  \n",
            "  inflating: home-credit-default-risk/POS_CASH_balance.csv  \n",
            "  inflating: home-credit-default-risk/application_test.csv  \n",
            "  inflating: home-credit-default-risk/application_train.csv  \n",
            "  inflating: home-credit-default-risk/bureau.csv  \n",
            "  inflating: home-credit-default-risk/bureau_balance.csv  \n",
            "  inflating: home-credit-default-risk/credit_card_balance.csv  \n",
            "  inflating: home-credit-default-risk/installments_payments.csv  \n",
            "  inflating: home-credit-default-risk/previous_application.csv  \n",
            "  inflating: home-credit-default-risk/sample_submission.csv  \n"
          ]
        }
      ],
      "source": [
        "k = {\"username\":\"user\",\n",
        "     \"key\":\"key\"}\n",
        "with open('kaggle.json', 'w') as fp:\n",
        "    json.dump(k, fp)\n",
        "!mkdir ~/.kaggle\n",
        "!cp kaggle.json ~/.kaggle/\n",
        "!chmod 600 ~/.kaggle/kaggle.json\n",
        "!kaggle competitions download -c home-credit-default-risk\n",
        "!mkdir home-credit-default-risk\n",
        "!unzip home-credit-default-risk.zip -d home-credit-default-risk"
      ],
      "id": "K1uzm9hfow-o"
    },
    {
      "cell_type": "code",
      "execution_count": null,
      "metadata": {
        "id": "1d62ba4d-a3f6-443b-8c3e-65582a85d8a6"
      },
      "outputs": [],
      "source": [
        "loans_data_train = pd.read_csv(\"home-credit-default-risk/application_train.csv\")\n",
        "loans_data_test = pd.read_csv(\"home-credit-default-risk/application_test.csv\")"
      ],
      "id": "1d62ba4d-a3f6-443b-8c3e-65582a85d8a6"
    },
    {
      "cell_type": "code",
      "execution_count": null,
      "metadata": {
        "colab": {
          "base_uri": "https://localhost:8080/",
          "height": 456
        },
        "id": "mgHbkRhGBp4Y",
        "outputId": "be8b37aa-ec9b-447c-982d-6874916b4ae8"
      },
      "outputs": [
        {
          "output_type": "execute_result",
          "data": {
            "text/plain": [
              "   SK_ID_CURR  TARGET NAME_CONTRACT_TYPE CODE_GENDER FLAG_OWN_CAR  \\\n",
              "0      100002       1         Cash loans           M            N   \n",
              "1      100003       0         Cash loans           F            N   \n",
              "2      100004       0    Revolving loans           M            Y   \n",
              "3      100006       0         Cash loans           F            N   \n",
              "4      100007       0         Cash loans           M            N   \n",
              "5      100008       0         Cash loans           M            N   \n",
              "6      100009       0         Cash loans           F            Y   \n",
              "7      100010       0         Cash loans           M            Y   \n",
              "8      100011       0         Cash loans           F            N   \n",
              "9      100012       0    Revolving loans           M            N   \n",
              "\n",
              "  FLAG_OWN_REALTY  CNT_CHILDREN  AMT_INCOME_TOTAL  AMT_CREDIT  AMT_ANNUITY  \\\n",
              "0               Y             0          202500.0    406597.5      24700.5   \n",
              "1               N             0          270000.0   1293502.5      35698.5   \n",
              "2               Y             0           67500.0    135000.0       6750.0   \n",
              "3               Y             0          135000.0    312682.5      29686.5   \n",
              "4               Y             0          121500.0    513000.0      21865.5   \n",
              "5               Y             0           99000.0    490495.5      27517.5   \n",
              "6               Y             1          171000.0   1560726.0      41301.0   \n",
              "7               Y             0          360000.0   1530000.0      42075.0   \n",
              "8               Y             0          112500.0   1019610.0      33826.5   \n",
              "9               Y             0          135000.0    405000.0      20250.0   \n",
              "\n",
              "   ...  FLAG_DOCUMENT_18 FLAG_DOCUMENT_19 FLAG_DOCUMENT_20 FLAG_DOCUMENT_21  \\\n",
              "0  ...                 0                0                0                0   \n",
              "1  ...                 0                0                0                0   \n",
              "2  ...                 0                0                0                0   \n",
              "3  ...                 0                0                0                0   \n",
              "4  ...                 0                0                0                0   \n",
              "5  ...                 0                0                0                0   \n",
              "6  ...                 0                0                0                0   \n",
              "7  ...                 0                0                0                0   \n",
              "8  ...                 0                0                0                0   \n",
              "9  ...                 0                0                0                0   \n",
              "\n",
              "  AMT_REQ_CREDIT_BUREAU_HOUR AMT_REQ_CREDIT_BUREAU_DAY  \\\n",
              "0                        0.0                       0.0   \n",
              "1                        0.0                       0.0   \n",
              "2                        0.0                       0.0   \n",
              "3                        NaN                       NaN   \n",
              "4                        0.0                       0.0   \n",
              "5                        0.0                       0.0   \n",
              "6                        0.0                       0.0   \n",
              "7                        0.0                       0.0   \n",
              "8                        0.0                       0.0   \n",
              "9                        NaN                       NaN   \n",
              "\n",
              "   AMT_REQ_CREDIT_BUREAU_WEEK  AMT_REQ_CREDIT_BUREAU_MON  \\\n",
              "0                         0.0                        0.0   \n",
              "1                         0.0                        0.0   \n",
              "2                         0.0                        0.0   \n",
              "3                         NaN                        NaN   \n",
              "4                         0.0                        0.0   \n",
              "5                         0.0                        0.0   \n",
              "6                         0.0                        1.0   \n",
              "7                         0.0                        0.0   \n",
              "8                         0.0                        0.0   \n",
              "9                         NaN                        NaN   \n",
              "\n",
              "   AMT_REQ_CREDIT_BUREAU_QRT  AMT_REQ_CREDIT_BUREAU_YEAR  \n",
              "0                        0.0                         1.0  \n",
              "1                        0.0                         0.0  \n",
              "2                        0.0                         0.0  \n",
              "3                        NaN                         NaN  \n",
              "4                        0.0                         0.0  \n",
              "5                        1.0                         1.0  \n",
              "6                        1.0                         2.0  \n",
              "7                        0.0                         0.0  \n",
              "8                        0.0                         1.0  \n",
              "9                        NaN                         NaN  \n",
              "\n",
              "[10 rows x 122 columns]"
            ],
            "text/html": [
              "\n",
              "  <div id=\"df-ef98fc55-6131-4153-9c16-998826265f1f\">\n",
              "    <div class=\"colab-df-container\">\n",
              "      <div>\n",
              "<style scoped>\n",
              "    .dataframe tbody tr th:only-of-type {\n",
              "        vertical-align: middle;\n",
              "    }\n",
              "\n",
              "    .dataframe tbody tr th {\n",
              "        vertical-align: top;\n",
              "    }\n",
              "\n",
              "    .dataframe thead th {\n",
              "        text-align: right;\n",
              "    }\n",
              "</style>\n",
              "<table border=\"1\" class=\"dataframe\">\n",
              "  <thead>\n",
              "    <tr style=\"text-align: right;\">\n",
              "      <th></th>\n",
              "      <th>SK_ID_CURR</th>\n",
              "      <th>TARGET</th>\n",
              "      <th>NAME_CONTRACT_TYPE</th>\n",
              "      <th>CODE_GENDER</th>\n",
              "      <th>FLAG_OWN_CAR</th>\n",
              "      <th>FLAG_OWN_REALTY</th>\n",
              "      <th>CNT_CHILDREN</th>\n",
              "      <th>AMT_INCOME_TOTAL</th>\n",
              "      <th>AMT_CREDIT</th>\n",
              "      <th>AMT_ANNUITY</th>\n",
              "      <th>...</th>\n",
              "      <th>FLAG_DOCUMENT_18</th>\n",
              "      <th>FLAG_DOCUMENT_19</th>\n",
              "      <th>FLAG_DOCUMENT_20</th>\n",
              "      <th>FLAG_DOCUMENT_21</th>\n",
              "      <th>AMT_REQ_CREDIT_BUREAU_HOUR</th>\n",
              "      <th>AMT_REQ_CREDIT_BUREAU_DAY</th>\n",
              "      <th>AMT_REQ_CREDIT_BUREAU_WEEK</th>\n",
              "      <th>AMT_REQ_CREDIT_BUREAU_MON</th>\n",
              "      <th>AMT_REQ_CREDIT_BUREAU_QRT</th>\n",
              "      <th>AMT_REQ_CREDIT_BUREAU_YEAR</th>\n",
              "    </tr>\n",
              "  </thead>\n",
              "  <tbody>\n",
              "    <tr>\n",
              "      <th>0</th>\n",
              "      <td>100002</td>\n",
              "      <td>1</td>\n",
              "      <td>Cash loans</td>\n",
              "      <td>M</td>\n",
              "      <td>N</td>\n",
              "      <td>Y</td>\n",
              "      <td>0</td>\n",
              "      <td>202500.0</td>\n",
              "      <td>406597.5</td>\n",
              "      <td>24700.5</td>\n",
              "      <td>...</td>\n",
              "      <td>0</td>\n",
              "      <td>0</td>\n",
              "      <td>0</td>\n",
              "      <td>0</td>\n",
              "      <td>0.0</td>\n",
              "      <td>0.0</td>\n",
              "      <td>0.0</td>\n",
              "      <td>0.0</td>\n",
              "      <td>0.0</td>\n",
              "      <td>1.0</td>\n",
              "    </tr>\n",
              "    <tr>\n",
              "      <th>1</th>\n",
              "      <td>100003</td>\n",
              "      <td>0</td>\n",
              "      <td>Cash loans</td>\n",
              "      <td>F</td>\n",
              "      <td>N</td>\n",
              "      <td>N</td>\n",
              "      <td>0</td>\n",
              "      <td>270000.0</td>\n",
              "      <td>1293502.5</td>\n",
              "      <td>35698.5</td>\n",
              "      <td>...</td>\n",
              "      <td>0</td>\n",
              "      <td>0</td>\n",
              "      <td>0</td>\n",
              "      <td>0</td>\n",
              "      <td>0.0</td>\n",
              "      <td>0.0</td>\n",
              "      <td>0.0</td>\n",
              "      <td>0.0</td>\n",
              "      <td>0.0</td>\n",
              "      <td>0.0</td>\n",
              "    </tr>\n",
              "    <tr>\n",
              "      <th>2</th>\n",
              "      <td>100004</td>\n",
              "      <td>0</td>\n",
              "      <td>Revolving loans</td>\n",
              "      <td>M</td>\n",
              "      <td>Y</td>\n",
              "      <td>Y</td>\n",
              "      <td>0</td>\n",
              "      <td>67500.0</td>\n",
              "      <td>135000.0</td>\n",
              "      <td>6750.0</td>\n",
              "      <td>...</td>\n",
              "      <td>0</td>\n",
              "      <td>0</td>\n",
              "      <td>0</td>\n",
              "      <td>0</td>\n",
              "      <td>0.0</td>\n",
              "      <td>0.0</td>\n",
              "      <td>0.0</td>\n",
              "      <td>0.0</td>\n",
              "      <td>0.0</td>\n",
              "      <td>0.0</td>\n",
              "    </tr>\n",
              "    <tr>\n",
              "      <th>3</th>\n",
              "      <td>100006</td>\n",
              "      <td>0</td>\n",
              "      <td>Cash loans</td>\n",
              "      <td>F</td>\n",
              "      <td>N</td>\n",
              "      <td>Y</td>\n",
              "      <td>0</td>\n",
              "      <td>135000.0</td>\n",
              "      <td>312682.5</td>\n",
              "      <td>29686.5</td>\n",
              "      <td>...</td>\n",
              "      <td>0</td>\n",
              "      <td>0</td>\n",
              "      <td>0</td>\n",
              "      <td>0</td>\n",
              "      <td>NaN</td>\n",
              "      <td>NaN</td>\n",
              "      <td>NaN</td>\n",
              "      <td>NaN</td>\n",
              "      <td>NaN</td>\n",
              "      <td>NaN</td>\n",
              "    </tr>\n",
              "    <tr>\n",
              "      <th>4</th>\n",
              "      <td>100007</td>\n",
              "      <td>0</td>\n",
              "      <td>Cash loans</td>\n",
              "      <td>M</td>\n",
              "      <td>N</td>\n",
              "      <td>Y</td>\n",
              "      <td>0</td>\n",
              "      <td>121500.0</td>\n",
              "      <td>513000.0</td>\n",
              "      <td>21865.5</td>\n",
              "      <td>...</td>\n",
              "      <td>0</td>\n",
              "      <td>0</td>\n",
              "      <td>0</td>\n",
              "      <td>0</td>\n",
              "      <td>0.0</td>\n",
              "      <td>0.0</td>\n",
              "      <td>0.0</td>\n",
              "      <td>0.0</td>\n",
              "      <td>0.0</td>\n",
              "      <td>0.0</td>\n",
              "    </tr>\n",
              "    <tr>\n",
              "      <th>5</th>\n",
              "      <td>100008</td>\n",
              "      <td>0</td>\n",
              "      <td>Cash loans</td>\n",
              "      <td>M</td>\n",
              "      <td>N</td>\n",
              "      <td>Y</td>\n",
              "      <td>0</td>\n",
              "      <td>99000.0</td>\n",
              "      <td>490495.5</td>\n",
              "      <td>27517.5</td>\n",
              "      <td>...</td>\n",
              "      <td>0</td>\n",
              "      <td>0</td>\n",
              "      <td>0</td>\n",
              "      <td>0</td>\n",
              "      <td>0.0</td>\n",
              "      <td>0.0</td>\n",
              "      <td>0.0</td>\n",
              "      <td>0.0</td>\n",
              "      <td>1.0</td>\n",
              "      <td>1.0</td>\n",
              "    </tr>\n",
              "    <tr>\n",
              "      <th>6</th>\n",
              "      <td>100009</td>\n",
              "      <td>0</td>\n",
              "      <td>Cash loans</td>\n",
              "      <td>F</td>\n",
              "      <td>Y</td>\n",
              "      <td>Y</td>\n",
              "      <td>1</td>\n",
              "      <td>171000.0</td>\n",
              "      <td>1560726.0</td>\n",
              "      <td>41301.0</td>\n",
              "      <td>...</td>\n",
              "      <td>0</td>\n",
              "      <td>0</td>\n",
              "      <td>0</td>\n",
              "      <td>0</td>\n",
              "      <td>0.0</td>\n",
              "      <td>0.0</td>\n",
              "      <td>0.0</td>\n",
              "      <td>1.0</td>\n",
              "      <td>1.0</td>\n",
              "      <td>2.0</td>\n",
              "    </tr>\n",
              "    <tr>\n",
              "      <th>7</th>\n",
              "      <td>100010</td>\n",
              "      <td>0</td>\n",
              "      <td>Cash loans</td>\n",
              "      <td>M</td>\n",
              "      <td>Y</td>\n",
              "      <td>Y</td>\n",
              "      <td>0</td>\n",
              "      <td>360000.0</td>\n",
              "      <td>1530000.0</td>\n",
              "      <td>42075.0</td>\n",
              "      <td>...</td>\n",
              "      <td>0</td>\n",
              "      <td>0</td>\n",
              "      <td>0</td>\n",
              "      <td>0</td>\n",
              "      <td>0.0</td>\n",
              "      <td>0.0</td>\n",
              "      <td>0.0</td>\n",
              "      <td>0.0</td>\n",
              "      <td>0.0</td>\n",
              "      <td>0.0</td>\n",
              "    </tr>\n",
              "    <tr>\n",
              "      <th>8</th>\n",
              "      <td>100011</td>\n",
              "      <td>0</td>\n",
              "      <td>Cash loans</td>\n",
              "      <td>F</td>\n",
              "      <td>N</td>\n",
              "      <td>Y</td>\n",
              "      <td>0</td>\n",
              "      <td>112500.0</td>\n",
              "      <td>1019610.0</td>\n",
              "      <td>33826.5</td>\n",
              "      <td>...</td>\n",
              "      <td>0</td>\n",
              "      <td>0</td>\n",
              "      <td>0</td>\n",
              "      <td>0</td>\n",
              "      <td>0.0</td>\n",
              "      <td>0.0</td>\n",
              "      <td>0.0</td>\n",
              "      <td>0.0</td>\n",
              "      <td>0.0</td>\n",
              "      <td>1.0</td>\n",
              "    </tr>\n",
              "    <tr>\n",
              "      <th>9</th>\n",
              "      <td>100012</td>\n",
              "      <td>0</td>\n",
              "      <td>Revolving loans</td>\n",
              "      <td>M</td>\n",
              "      <td>N</td>\n",
              "      <td>Y</td>\n",
              "      <td>0</td>\n",
              "      <td>135000.0</td>\n",
              "      <td>405000.0</td>\n",
              "      <td>20250.0</td>\n",
              "      <td>...</td>\n",
              "      <td>0</td>\n",
              "      <td>0</td>\n",
              "      <td>0</td>\n",
              "      <td>0</td>\n",
              "      <td>NaN</td>\n",
              "      <td>NaN</td>\n",
              "      <td>NaN</td>\n",
              "      <td>NaN</td>\n",
              "      <td>NaN</td>\n",
              "      <td>NaN</td>\n",
              "    </tr>\n",
              "  </tbody>\n",
              "</table>\n",
              "<p>10 rows × 122 columns</p>\n",
              "</div>\n",
              "      <button class=\"colab-df-convert\" onclick=\"convertToInteractive('df-ef98fc55-6131-4153-9c16-998826265f1f')\"\n",
              "              title=\"Convert this dataframe to an interactive table.\"\n",
              "              style=\"display:none;\">\n",
              "        \n",
              "  <svg xmlns=\"http://www.w3.org/2000/svg\" height=\"24px\"viewBox=\"0 0 24 24\"\n",
              "       width=\"24px\">\n",
              "    <path d=\"M0 0h24v24H0V0z\" fill=\"none\"/>\n",
              "    <path d=\"M18.56 5.44l.94 2.06.94-2.06 2.06-.94-2.06-.94-.94-2.06-.94 2.06-2.06.94zm-11 1L8.5 8.5l.94-2.06 2.06-.94-2.06-.94L8.5 2.5l-.94 2.06-2.06.94zm10 10l.94 2.06.94-2.06 2.06-.94-2.06-.94-.94-2.06-.94 2.06-2.06.94z\"/><path d=\"M17.41 7.96l-1.37-1.37c-.4-.4-.92-.59-1.43-.59-.52 0-1.04.2-1.43.59L10.3 9.45l-7.72 7.72c-.78.78-.78 2.05 0 2.83L4 21.41c.39.39.9.59 1.41.59.51 0 1.02-.2 1.41-.59l7.78-7.78 2.81-2.81c.8-.78.8-2.07 0-2.86zM5.41 20L4 18.59l7.72-7.72 1.47 1.35L5.41 20z\"/>\n",
              "  </svg>\n",
              "      </button>\n",
              "      \n",
              "  <style>\n",
              "    .colab-df-container {\n",
              "      display:flex;\n",
              "      flex-wrap:wrap;\n",
              "      gap: 12px;\n",
              "    }\n",
              "\n",
              "    .colab-df-convert {\n",
              "      background-color: #E8F0FE;\n",
              "      border: none;\n",
              "      border-radius: 50%;\n",
              "      cursor: pointer;\n",
              "      display: none;\n",
              "      fill: #1967D2;\n",
              "      height: 32px;\n",
              "      padding: 0 0 0 0;\n",
              "      width: 32px;\n",
              "    }\n",
              "\n",
              "    .colab-df-convert:hover {\n",
              "      background-color: #E2EBFA;\n",
              "      box-shadow: 0px 1px 2px rgba(60, 64, 67, 0.3), 0px 1px 3px 1px rgba(60, 64, 67, 0.15);\n",
              "      fill: #174EA6;\n",
              "    }\n",
              "\n",
              "    [theme=dark] .colab-df-convert {\n",
              "      background-color: #3B4455;\n",
              "      fill: #D2E3FC;\n",
              "    }\n",
              "\n",
              "    [theme=dark] .colab-df-convert:hover {\n",
              "      background-color: #434B5C;\n",
              "      box-shadow: 0px 1px 3px 1px rgba(0, 0, 0, 0.15);\n",
              "      filter: drop-shadow(0px 1px 2px rgba(0, 0, 0, 0.3));\n",
              "      fill: #FFFFFF;\n",
              "    }\n",
              "  </style>\n",
              "\n",
              "      <script>\n",
              "        const buttonEl =\n",
              "          document.querySelector('#df-ef98fc55-6131-4153-9c16-998826265f1f button.colab-df-convert');\n",
              "        buttonEl.style.display =\n",
              "          google.colab.kernel.accessAllowed ? 'block' : 'none';\n",
              "\n",
              "        async function convertToInteractive(key) {\n",
              "          const element = document.querySelector('#df-ef98fc55-6131-4153-9c16-998826265f1f');\n",
              "          const dataTable =\n",
              "            await google.colab.kernel.invokeFunction('convertToInteractive',\n",
              "                                                     [key], {});\n",
              "          if (!dataTable) return;\n",
              "\n",
              "          const docLinkHtml = 'Like what you see? Visit the ' +\n",
              "            '<a target=\"_blank\" href=https://colab.research.google.com/notebooks/data_table.ipynb>data table notebook</a>'\n",
              "            + ' to learn more about interactive tables.';\n",
              "          element.innerHTML = '';\n",
              "          dataTable['output_type'] = 'display_data';\n",
              "          await google.colab.output.renderOutput(dataTable, element);\n",
              "          const docLink = document.createElement('div');\n",
              "          docLink.innerHTML = docLinkHtml;\n",
              "          element.appendChild(docLink);\n",
              "        }\n",
              "      </script>\n",
              "    </div>\n",
              "  </div>\n",
              "  "
            ]
          },
          "metadata": {},
          "execution_count": 8
        }
      ],
      "source": [
        "loans_data_train.head(10)"
      ],
      "id": "mgHbkRhGBp4Y"
    },
    {
      "cell_type": "markdown",
      "metadata": {
        "id": "7c10a608-5c38-44f4-8158-18225619e7ae"
      },
      "source": [
        "### Exploratory Data Analysis"
      ],
      "id": "7c10a608-5c38-44f4-8158-18225619e7ae"
    },
    {
      "cell_type": "markdown",
      "metadata": {
        "id": "6bc490ab-a7b3-4590-a93c-70df44787682"
      },
      "source": [
        "A lot of the analysis of the data can be found on public available Kaggle kernels or blog posts, but you need to make sure you understand the datasets properties before starting working on it, so we'll do exploratory data analysis for the main files"
      ],
      "id": "6bc490ab-a7b3-4590-a93c-70df44787682"
    },
    {
      "cell_type": "markdown",
      "metadata": {
        "id": "2ea774d3-e12c-4c2b-846d-8c5c03e70928"
      },
      "source": [
        "**Dataset Basics**"
      ],
      "id": "2ea774d3-e12c-4c2b-846d-8c5c03e70928"
    },
    {
      "cell_type": "markdown",
      "metadata": {
        "id": "9f0b4817-5768-49d2-b5f2-907827541f16"
      },
      "source": [
        "1- Show the shape of the training and test datasets."
      ],
      "id": "9f0b4817-5768-49d2-b5f2-907827541f16"
    },
    {
      "cell_type": "code",
      "execution_count": null,
      "metadata": {
        "colab": {
          "base_uri": "https://localhost:8080/"
        },
        "id": "6a98fdd5-cbf2-4d20-9559-89c7cf5943cd",
        "outputId": "7d8b61b1-1b38-4036-a8e7-f1e829e55062"
      },
      "outputs": [
        {
          "output_type": "stream",
          "name": "stdout",
          "text": [
            "The shape of the training dataset is:\n"
          ]
        },
        {
          "output_type": "execute_result",
          "data": {
            "text/plain": [
              "(307511, 122)"
            ]
          },
          "metadata": {},
          "execution_count": 9
        }
      ],
      "source": [
        "print(\"The shape of the training dataset is:\")\n",
        "loans_data_train.shape"
      ],
      "id": "6a98fdd5-cbf2-4d20-9559-89c7cf5943cd"
    },
    {
      "cell_type": "code",
      "execution_count": null,
      "metadata": {
        "colab": {
          "base_uri": "https://localhost:8080/"
        },
        "id": "OsyqMjkXByTl",
        "outputId": "ce42367d-ad7c-45e9-9fa8-f5fca9bd4ffa"
      },
      "outputs": [
        {
          "output_type": "stream",
          "name": "stdout",
          "text": [
            "The shape of the testing dataset is:\n"
          ]
        },
        {
          "output_type": "execute_result",
          "data": {
            "text/plain": [
              "(48744, 121)"
            ]
          },
          "metadata": {},
          "execution_count": 10
        }
      ],
      "source": [
        "print(\"The shape of the testing dataset is:\")\n",
        "loans_data_test.shape"
      ],
      "id": "OsyqMjkXByTl"
    },
    {
      "cell_type": "markdown",
      "metadata": {
        "id": "74e7a95b-8288-4ead-8c1e-f2cf68167d8e"
      },
      "source": [
        "2- List all columns in the train dataset"
      ],
      "id": "74e7a95b-8288-4ead-8c1e-f2cf68167d8e"
    },
    {
      "cell_type": "code",
      "execution_count": null,
      "metadata": {
        "id": "xKyZbWfAB5oP",
        "colab": {
          "base_uri": "https://localhost:8080/"
        },
        "outputId": "ff8127a4-7a94-46fd-8036-4b489f07535c"
      },
      "outputs": [
        {
          "output_type": "execute_result",
          "data": {
            "text/plain": [
              "array(['SK_ID_CURR', 'TARGET', 'NAME_CONTRACT_TYPE', 'CODE_GENDER',\n",
              "       'FLAG_OWN_CAR', 'FLAG_OWN_REALTY', 'CNT_CHILDREN',\n",
              "       'AMT_INCOME_TOTAL', 'AMT_CREDIT', 'AMT_ANNUITY', 'AMT_GOODS_PRICE',\n",
              "       'NAME_TYPE_SUITE', 'NAME_INCOME_TYPE', 'NAME_EDUCATION_TYPE',\n",
              "       'NAME_FAMILY_STATUS', 'NAME_HOUSING_TYPE',\n",
              "       'REGION_POPULATION_RELATIVE', 'DAYS_BIRTH', 'DAYS_EMPLOYED',\n",
              "       'DAYS_REGISTRATION', 'DAYS_ID_PUBLISH', 'OWN_CAR_AGE',\n",
              "       'FLAG_MOBIL', 'FLAG_EMP_PHONE', 'FLAG_WORK_PHONE',\n",
              "       'FLAG_CONT_MOBILE', 'FLAG_PHONE', 'FLAG_EMAIL', 'OCCUPATION_TYPE',\n",
              "       'CNT_FAM_MEMBERS', 'REGION_RATING_CLIENT',\n",
              "       'REGION_RATING_CLIENT_W_CITY', 'WEEKDAY_APPR_PROCESS_START',\n",
              "       'HOUR_APPR_PROCESS_START', 'REG_REGION_NOT_LIVE_REGION',\n",
              "       'REG_REGION_NOT_WORK_REGION', 'LIVE_REGION_NOT_WORK_REGION',\n",
              "       'REG_CITY_NOT_LIVE_CITY', 'REG_CITY_NOT_WORK_CITY',\n",
              "       'LIVE_CITY_NOT_WORK_CITY', 'ORGANIZATION_TYPE', 'EXT_SOURCE_1',\n",
              "       'EXT_SOURCE_2', 'EXT_SOURCE_3', 'APARTMENTS_AVG',\n",
              "       'BASEMENTAREA_AVG', 'YEARS_BEGINEXPLUATATION_AVG',\n",
              "       'YEARS_BUILD_AVG', 'COMMONAREA_AVG', 'ELEVATORS_AVG',\n",
              "       'ENTRANCES_AVG', 'FLOORSMAX_AVG', 'FLOORSMIN_AVG', 'LANDAREA_AVG',\n",
              "       'LIVINGAPARTMENTS_AVG', 'LIVINGAREA_AVG',\n",
              "       'NONLIVINGAPARTMENTS_AVG', 'NONLIVINGAREA_AVG', 'APARTMENTS_MODE',\n",
              "       'BASEMENTAREA_MODE', 'YEARS_BEGINEXPLUATATION_MODE',\n",
              "       'YEARS_BUILD_MODE', 'COMMONAREA_MODE', 'ELEVATORS_MODE',\n",
              "       'ENTRANCES_MODE', 'FLOORSMAX_MODE', 'FLOORSMIN_MODE',\n",
              "       'LANDAREA_MODE', 'LIVINGAPARTMENTS_MODE', 'LIVINGAREA_MODE',\n",
              "       'NONLIVINGAPARTMENTS_MODE', 'NONLIVINGAREA_MODE',\n",
              "       'APARTMENTS_MEDI', 'BASEMENTAREA_MEDI',\n",
              "       'YEARS_BEGINEXPLUATATION_MEDI', 'YEARS_BUILD_MEDI',\n",
              "       'COMMONAREA_MEDI', 'ELEVATORS_MEDI', 'ENTRANCES_MEDI',\n",
              "       'FLOORSMAX_MEDI', 'FLOORSMIN_MEDI', 'LANDAREA_MEDI',\n",
              "       'LIVINGAPARTMENTS_MEDI', 'LIVINGAREA_MEDI',\n",
              "       'NONLIVINGAPARTMENTS_MEDI', 'NONLIVINGAREA_MEDI',\n",
              "       'FONDKAPREMONT_MODE', 'HOUSETYPE_MODE', 'TOTALAREA_MODE',\n",
              "       'WALLSMATERIAL_MODE', 'EMERGENCYSTATE_MODE',\n",
              "       'OBS_30_CNT_SOCIAL_CIRCLE', 'DEF_30_CNT_SOCIAL_CIRCLE',\n",
              "       'OBS_60_CNT_SOCIAL_CIRCLE', 'DEF_60_CNT_SOCIAL_CIRCLE',\n",
              "       'DAYS_LAST_PHONE_CHANGE', 'FLAG_DOCUMENT_2', 'FLAG_DOCUMENT_3',\n",
              "       'FLAG_DOCUMENT_4', 'FLAG_DOCUMENT_5', 'FLAG_DOCUMENT_6',\n",
              "       'FLAG_DOCUMENT_7', 'FLAG_DOCUMENT_8', 'FLAG_DOCUMENT_9',\n",
              "       'FLAG_DOCUMENT_10', 'FLAG_DOCUMENT_11', 'FLAG_DOCUMENT_12',\n",
              "       'FLAG_DOCUMENT_13', 'FLAG_DOCUMENT_14', 'FLAG_DOCUMENT_15',\n",
              "       'FLAG_DOCUMENT_16', 'FLAG_DOCUMENT_17', 'FLAG_DOCUMENT_18',\n",
              "       'FLAG_DOCUMENT_19', 'FLAG_DOCUMENT_20', 'FLAG_DOCUMENT_21',\n",
              "       'AMT_REQ_CREDIT_BUREAU_HOUR', 'AMT_REQ_CREDIT_BUREAU_DAY',\n",
              "       'AMT_REQ_CREDIT_BUREAU_WEEK', 'AMT_REQ_CREDIT_BUREAU_MON',\n",
              "       'AMT_REQ_CREDIT_BUREAU_QRT', 'AMT_REQ_CREDIT_BUREAU_YEAR'],\n",
              "      dtype=object)"
            ]
          },
          "metadata": {},
          "execution_count": 11
        }
      ],
      "source": [
        "cols = loans_data_train.columns\n",
        "cols.values"
      ],
      "id": "xKyZbWfAB5oP"
    },
    {
      "cell_type": "markdown",
      "metadata": {
        "id": "2dc4835f-90c3-4049-9ec2-44d102201104"
      },
      "source": [
        "3- Show the first 5 records of the training dataset, transpose the dataframe to see each record as a column and features as rows, make sure all features are visualized. Take your time to review what kind of information you can gather from this data."
      ],
      "id": "2dc4835f-90c3-4049-9ec2-44d102201104"
    },
    {
      "cell_type": "code",
      "execution_count": null,
      "metadata": {
        "id": "ac9c85b3-52e0-4b80-9753-afb81f92bd0d",
        "colab": {
          "base_uri": "https://localhost:8080/",
          "height": 641
        },
        "outputId": "e590e3fc-e3a5-4a8a-dbaf-685c199ce87e"
      },
      "outputs": [
        {
          "output_type": "execute_result",
          "data": {
            "text/plain": [
              "                                     0           1                2  \\\n",
              "SK_ID_CURR                      100002      100003           100004   \n",
              "TARGET                               1           0                0   \n",
              "NAME_CONTRACT_TYPE          Cash loans  Cash loans  Revolving loans   \n",
              "CODE_GENDER                          M           F                M   \n",
              "FLAG_OWN_CAR                         N           N                Y   \n",
              "...                                ...         ...              ...   \n",
              "AMT_REQ_CREDIT_BUREAU_DAY          0.0         0.0              0.0   \n",
              "AMT_REQ_CREDIT_BUREAU_WEEK         0.0         0.0              0.0   \n",
              "AMT_REQ_CREDIT_BUREAU_MON          0.0         0.0              0.0   \n",
              "AMT_REQ_CREDIT_BUREAU_QRT          0.0         0.0              0.0   \n",
              "AMT_REQ_CREDIT_BUREAU_YEAR         1.0         0.0              0.0   \n",
              "\n",
              "                                     3           4  \n",
              "SK_ID_CURR                      100006      100007  \n",
              "TARGET                               0           0  \n",
              "NAME_CONTRACT_TYPE          Cash loans  Cash loans  \n",
              "CODE_GENDER                          F           M  \n",
              "FLAG_OWN_CAR                         N           N  \n",
              "...                                ...         ...  \n",
              "AMT_REQ_CREDIT_BUREAU_DAY          NaN         0.0  \n",
              "AMT_REQ_CREDIT_BUREAU_WEEK         NaN         0.0  \n",
              "AMT_REQ_CREDIT_BUREAU_MON          NaN         0.0  \n",
              "AMT_REQ_CREDIT_BUREAU_QRT          NaN         0.0  \n",
              "AMT_REQ_CREDIT_BUREAU_YEAR         NaN         0.0  \n",
              "\n",
              "[122 rows x 5 columns]"
            ],
            "text/html": [
              "\n",
              "  <div id=\"df-b62b7c22-1ed1-44c8-90b6-694f86a691c2\">\n",
              "    <div class=\"colab-df-container\">\n",
              "      <div>\n",
              "<style scoped>\n",
              "    .dataframe tbody tr th:only-of-type {\n",
              "        vertical-align: middle;\n",
              "    }\n",
              "\n",
              "    .dataframe tbody tr th {\n",
              "        vertical-align: top;\n",
              "    }\n",
              "\n",
              "    .dataframe thead th {\n",
              "        text-align: right;\n",
              "    }\n",
              "</style>\n",
              "<table border=\"1\" class=\"dataframe\">\n",
              "  <thead>\n",
              "    <tr style=\"text-align: right;\">\n",
              "      <th></th>\n",
              "      <th>0</th>\n",
              "      <th>1</th>\n",
              "      <th>2</th>\n",
              "      <th>3</th>\n",
              "      <th>4</th>\n",
              "    </tr>\n",
              "  </thead>\n",
              "  <tbody>\n",
              "    <tr>\n",
              "      <th>SK_ID_CURR</th>\n",
              "      <td>100002</td>\n",
              "      <td>100003</td>\n",
              "      <td>100004</td>\n",
              "      <td>100006</td>\n",
              "      <td>100007</td>\n",
              "    </tr>\n",
              "    <tr>\n",
              "      <th>TARGET</th>\n",
              "      <td>1</td>\n",
              "      <td>0</td>\n",
              "      <td>0</td>\n",
              "      <td>0</td>\n",
              "      <td>0</td>\n",
              "    </tr>\n",
              "    <tr>\n",
              "      <th>NAME_CONTRACT_TYPE</th>\n",
              "      <td>Cash loans</td>\n",
              "      <td>Cash loans</td>\n",
              "      <td>Revolving loans</td>\n",
              "      <td>Cash loans</td>\n",
              "      <td>Cash loans</td>\n",
              "    </tr>\n",
              "    <tr>\n",
              "      <th>CODE_GENDER</th>\n",
              "      <td>M</td>\n",
              "      <td>F</td>\n",
              "      <td>M</td>\n",
              "      <td>F</td>\n",
              "      <td>M</td>\n",
              "    </tr>\n",
              "    <tr>\n",
              "      <th>FLAG_OWN_CAR</th>\n",
              "      <td>N</td>\n",
              "      <td>N</td>\n",
              "      <td>Y</td>\n",
              "      <td>N</td>\n",
              "      <td>N</td>\n",
              "    </tr>\n",
              "    <tr>\n",
              "      <th>...</th>\n",
              "      <td>...</td>\n",
              "      <td>...</td>\n",
              "      <td>...</td>\n",
              "      <td>...</td>\n",
              "      <td>...</td>\n",
              "    </tr>\n",
              "    <tr>\n",
              "      <th>AMT_REQ_CREDIT_BUREAU_DAY</th>\n",
              "      <td>0.0</td>\n",
              "      <td>0.0</td>\n",
              "      <td>0.0</td>\n",
              "      <td>NaN</td>\n",
              "      <td>0.0</td>\n",
              "    </tr>\n",
              "    <tr>\n",
              "      <th>AMT_REQ_CREDIT_BUREAU_WEEK</th>\n",
              "      <td>0.0</td>\n",
              "      <td>0.0</td>\n",
              "      <td>0.0</td>\n",
              "      <td>NaN</td>\n",
              "      <td>0.0</td>\n",
              "    </tr>\n",
              "    <tr>\n",
              "      <th>AMT_REQ_CREDIT_BUREAU_MON</th>\n",
              "      <td>0.0</td>\n",
              "      <td>0.0</td>\n",
              "      <td>0.0</td>\n",
              "      <td>NaN</td>\n",
              "      <td>0.0</td>\n",
              "    </tr>\n",
              "    <tr>\n",
              "      <th>AMT_REQ_CREDIT_BUREAU_QRT</th>\n",
              "      <td>0.0</td>\n",
              "      <td>0.0</td>\n",
              "      <td>0.0</td>\n",
              "      <td>NaN</td>\n",
              "      <td>0.0</td>\n",
              "    </tr>\n",
              "    <tr>\n",
              "      <th>AMT_REQ_CREDIT_BUREAU_YEAR</th>\n",
              "      <td>1.0</td>\n",
              "      <td>0.0</td>\n",
              "      <td>0.0</td>\n",
              "      <td>NaN</td>\n",
              "      <td>0.0</td>\n",
              "    </tr>\n",
              "  </tbody>\n",
              "</table>\n",
              "<p>122 rows × 5 columns</p>\n",
              "</div>\n",
              "      <button class=\"colab-df-convert\" onclick=\"convertToInteractive('df-b62b7c22-1ed1-44c8-90b6-694f86a691c2')\"\n",
              "              title=\"Convert this dataframe to an interactive table.\"\n",
              "              style=\"display:none;\">\n",
              "        \n",
              "  <svg xmlns=\"http://www.w3.org/2000/svg\" height=\"24px\"viewBox=\"0 0 24 24\"\n",
              "       width=\"24px\">\n",
              "    <path d=\"M0 0h24v24H0V0z\" fill=\"none\"/>\n",
              "    <path d=\"M18.56 5.44l.94 2.06.94-2.06 2.06-.94-2.06-.94-.94-2.06-.94 2.06-2.06.94zm-11 1L8.5 8.5l.94-2.06 2.06-.94-2.06-.94L8.5 2.5l-.94 2.06-2.06.94zm10 10l.94 2.06.94-2.06 2.06-.94-2.06-.94-.94-2.06-.94 2.06-2.06.94z\"/><path d=\"M17.41 7.96l-1.37-1.37c-.4-.4-.92-.59-1.43-.59-.52 0-1.04.2-1.43.59L10.3 9.45l-7.72 7.72c-.78.78-.78 2.05 0 2.83L4 21.41c.39.39.9.59 1.41.59.51 0 1.02-.2 1.41-.59l7.78-7.78 2.81-2.81c.8-.78.8-2.07 0-2.86zM5.41 20L4 18.59l7.72-7.72 1.47 1.35L5.41 20z\"/>\n",
              "  </svg>\n",
              "      </button>\n",
              "      \n",
              "  <style>\n",
              "    .colab-df-container {\n",
              "      display:flex;\n",
              "      flex-wrap:wrap;\n",
              "      gap: 12px;\n",
              "    }\n",
              "\n",
              "    .colab-df-convert {\n",
              "      background-color: #E8F0FE;\n",
              "      border: none;\n",
              "      border-radius: 50%;\n",
              "      cursor: pointer;\n",
              "      display: none;\n",
              "      fill: #1967D2;\n",
              "      height: 32px;\n",
              "      padding: 0 0 0 0;\n",
              "      width: 32px;\n",
              "    }\n",
              "\n",
              "    .colab-df-convert:hover {\n",
              "      background-color: #E2EBFA;\n",
              "      box-shadow: 0px 1px 2px rgba(60, 64, 67, 0.3), 0px 1px 3px 1px rgba(60, 64, 67, 0.15);\n",
              "      fill: #174EA6;\n",
              "    }\n",
              "\n",
              "    [theme=dark] .colab-df-convert {\n",
              "      background-color: #3B4455;\n",
              "      fill: #D2E3FC;\n",
              "    }\n",
              "\n",
              "    [theme=dark] .colab-df-convert:hover {\n",
              "      background-color: #434B5C;\n",
              "      box-shadow: 0px 1px 3px 1px rgba(0, 0, 0, 0.15);\n",
              "      filter: drop-shadow(0px 1px 2px rgba(0, 0, 0, 0.3));\n",
              "      fill: #FFFFFF;\n",
              "    }\n",
              "  </style>\n",
              "\n",
              "      <script>\n",
              "        const buttonEl =\n",
              "          document.querySelector('#df-b62b7c22-1ed1-44c8-90b6-694f86a691c2 button.colab-df-convert');\n",
              "        buttonEl.style.display =\n",
              "          google.colab.kernel.accessAllowed ? 'block' : 'none';\n",
              "\n",
              "        async function convertToInteractive(key) {\n",
              "          const element = document.querySelector('#df-b62b7c22-1ed1-44c8-90b6-694f86a691c2');\n",
              "          const dataTable =\n",
              "            await google.colab.kernel.invokeFunction('convertToInteractive',\n",
              "                                                     [key], {});\n",
              "          if (!dataTable) return;\n",
              "\n",
              "          const docLinkHtml = 'Like what you see? Visit the ' +\n",
              "            '<a target=\"_blank\" href=https://colab.research.google.com/notebooks/data_table.ipynb>data table notebook</a>'\n",
              "            + ' to learn more about interactive tables.';\n",
              "          element.innerHTML = '';\n",
              "          dataTable['output_type'] = 'display_data';\n",
              "          await google.colab.output.renderOutput(dataTable, element);\n",
              "          const docLink = document.createElement('div');\n",
              "          docLink.innerHTML = docLinkHtml;\n",
              "          element.appendChild(docLink);\n",
              "        }\n",
              "      </script>\n",
              "    </div>\n",
              "  </div>\n",
              "  "
            ],
            "application/vnd.google.colaboratory.module+javascript": "\n      import \"https://ssl.gstatic.com/colaboratory/data_table/f872b2c2305463fd/data_table.js\";\n\n      window.createDataTable({\n        data: [[\"SK_ID_CURR\",\n100002,\n100003,\n100004,\n100006,\n100007],\n [\"TARGET\",\n1,\n0,\n0,\n0,\n0],\n [\"NAME_CONTRACT_TYPE\",\n\"Cash loans\",\n\"Cash loans\",\n\"Revolving loans\",\n\"Cash loans\",\n\"Cash loans\"],\n [\"CODE_GENDER\",\n\"M\",\n\"F\",\n\"M\",\n\"F\",\n\"M\"],\n [\"FLAG_OWN_CAR\",\n\"N\",\n\"N\",\n\"Y\",\n\"N\",\n\"N\"],\n [\"FLAG_OWN_REALTY\",\n\"Y\",\n\"N\",\n\"Y\",\n\"Y\",\n\"Y\"],\n [\"CNT_CHILDREN\",\n0,\n0,\n0,\n0,\n0],\n [\"AMT_INCOME_TOTAL\",\n202500.0,\n270000.0,\n67500.0,\n135000.0,\n121500.0],\n [\"AMT_CREDIT\",\n406597.5,\n1293502.5,\n135000.0,\n312682.5,\n513000.0],\n [\"AMT_ANNUITY\",\n24700.5,\n35698.5,\n6750.0,\n29686.5,\n21865.5],\n [\"AMT_GOODS_PRICE\",\n351000.0,\n1129500.0,\n135000.0,\n297000.0,\n513000.0],\n [\"NAME_TYPE_SUITE\",\n\"Unaccompanied\",\n\"Family\",\n\"Unaccompanied\",\n\"Unaccompanied\",\n\"Unaccompanied\"],\n [\"NAME_INCOME_TYPE\",\n\"Working\",\n\"State servant\",\n\"Working\",\n\"Working\",\n\"Working\"],\n [\"NAME_EDUCATION_TYPE\",\n\"Secondary / secondary special\",\n\"Higher education\",\n\"Secondary / secondary special\",\n\"Secondary / secondary special\",\n\"Secondary / secondary special\"],\n [\"NAME_FAMILY_STATUS\",\n\"Single / not married\",\n\"Married\",\n\"Single / not married\",\n\"Civil marriage\",\n\"Single / not married\"],\n [\"NAME_HOUSING_TYPE\",\n\"House / apartment\",\n\"House / apartment\",\n\"House / apartment\",\n\"House / apartment\",\n\"House / apartment\"],\n [\"REGION_POPULATION_RELATIVE\",\n0.018801,\n0.0035409999999999,\n0.010032,\n0.008019,\n0.028663],\n [\"DAYS_BIRTH\",\n-9461,\n-16765,\n-19046,\n-19005,\n-19932],\n [\"DAYS_EMPLOYED\",\n-637,\n-1188,\n-225,\n-3039,\n-3038],\n [\"DAYS_REGISTRATION\",\n-3648.0,\n-1186.0,\n-4260.0,\n-9833.0,\n-4311.0],\n [\"DAYS_ID_PUBLISH\",\n-2120,\n-291,\n-2531,\n-2437,\n-3458],\n [\"OWN_CAR_AGE\",\nNaN,\nNaN,\n26.0,\nNaN,\nNaN],\n [\"FLAG_MOBIL\",\n1,\n1,\n1,\n1,\n1],\n [\"FLAG_EMP_PHONE\",\n1,\n1,\n1,\n1,\n1],\n [\"FLAG_WORK_PHONE\",\n0,\n0,\n1,\n0,\n0],\n [\"FLAG_CONT_MOBILE\",\n1,\n1,\n1,\n1,\n1],\n [\"FLAG_PHONE\",\n1,\n1,\n1,\n0,\n0],\n [\"FLAG_EMAIL\",\n0,\n0,\n0,\n0,\n0],\n [\"OCCUPATION_TYPE\",\n\"Laborers\",\n\"Core staff\",\n\"Laborers\",\n\"Laborers\",\n\"Core staff\"],\n [\"CNT_FAM_MEMBERS\",\n1.0,\n2.0,\n1.0,\n2.0,\n1.0],\n [\"REGION_RATING_CLIENT\",\n2,\n1,\n2,\n2,\n2],\n [\"REGION_RATING_CLIENT_W_CITY\",\n2,\n1,\n2,\n2,\n2],\n [\"WEEKDAY_APPR_PROCESS_START\",\n\"WEDNESDAY\",\n\"MONDAY\",\n\"MONDAY\",\n\"WEDNESDAY\",\n\"THURSDAY\"],\n [\"HOUR_APPR_PROCESS_START\",\n10,\n11,\n9,\n17,\n11],\n [\"REG_REGION_NOT_LIVE_REGION\",\n0,\n0,\n0,\n0,\n0],\n [\"REG_REGION_NOT_WORK_REGION\",\n0,\n0,\n0,\n0,\n0],\n [\"LIVE_REGION_NOT_WORK_REGION\",\n0,\n0,\n0,\n0,\n0],\n [\"REG_CITY_NOT_LIVE_CITY\",\n0,\n0,\n0,\n0,\n0],\n [\"REG_CITY_NOT_WORK_CITY\",\n0,\n0,\n0,\n0,\n1],\n [\"LIVE_CITY_NOT_WORK_CITY\",\n0,\n0,\n0,\n0,\n1],\n [\"ORGANIZATION_TYPE\",\n\"Business Entity Type 3\",\n\"School\",\n\"Government\",\n\"Business Entity Type 3\",\n\"Religion\"],\n [\"EXT_SOURCE_1\",\n0.0830369673913225,\n0.3112673113812225,\nNaN,\nNaN,\nNaN],\n [\"EXT_SOURCE_2\",\n0.2629485927471776,\n0.6222457752555098,\n0.5559120833904428,\n0.6504416904014653,\n0.3227382869704046],\n [\"EXT_SOURCE_3\",\n0.1393757800997895,\nNaN,\n0.7295666907060153,\nNaN,\nNaN],\n [\"APARTMENTS_AVG\",\n0.0247,\n0.0959,\nNaN,\nNaN,\nNaN],\n [\"BASEMENTAREA_AVG\",\n0.0369,\n0.0529,\nNaN,\nNaN,\nNaN],\n [\"YEARS_BEGINEXPLUATATION_AVG\",\n0.9722,\n0.9851,\nNaN,\nNaN,\nNaN],\n [\"YEARS_BUILD_AVG\",\n0.6192,\n0.7959999999999999,\nNaN,\nNaN,\nNaN],\n [\"COMMONAREA_AVG\",\n0.0143,\n0.0605,\nNaN,\nNaN,\nNaN],\n [\"ELEVATORS_AVG\",\n0.0,\n0.08,\nNaN,\nNaN,\nNaN],\n [\"ENTRANCES_AVG\",\n0.069,\n0.0345,\nNaN,\nNaN,\nNaN],\n [\"FLOORSMAX_AVG\",\n0.0833,\n0.2917,\nNaN,\nNaN,\nNaN],\n [\"FLOORSMIN_AVG\",\n0.125,\n0.3333,\nNaN,\nNaN,\nNaN],\n [\"LANDAREA_AVG\",\n0.0369,\n0.013,\nNaN,\nNaN,\nNaN],\n [\"LIVINGAPARTMENTS_AVG\",\n0.0202,\n0.0773,\nNaN,\nNaN,\nNaN],\n [\"LIVINGAREA_AVG\",\n0.019,\n0.0549,\nNaN,\nNaN,\nNaN],\n [\"NONLIVINGAPARTMENTS_AVG\",\n0.0,\n0.0039,\nNaN,\nNaN,\nNaN],\n [\"NONLIVINGAREA_AVG\",\n0.0,\n0.0098,\nNaN,\nNaN,\nNaN],\n [\"APARTMENTS_MODE\",\n0.0252,\n0.0924,\nNaN,\nNaN,\nNaN],\n [\"BASEMENTAREA_MODE\",\n0.0383,\n0.0538,\nNaN,\nNaN,\nNaN],\n [\"YEARS_BEGINEXPLUATATION_MODE\",\n0.9722,\n0.9851,\nNaN,\nNaN,\nNaN],\n [\"YEARS_BUILD_MODE\",\n0.6341,\n0.804,\nNaN,\nNaN,\nNaN],\n [\"COMMONAREA_MODE\",\n0.0144,\n0.0497,\nNaN,\nNaN,\nNaN],\n [\"ELEVATORS_MODE\",\n0.0,\n0.0806,\nNaN,\nNaN,\nNaN],\n [\"ENTRANCES_MODE\",\n0.069,\n0.0345,\nNaN,\nNaN,\nNaN],\n [\"FLOORSMAX_MODE\",\n0.0833,\n0.2917,\nNaN,\nNaN,\nNaN],\n [\"FLOORSMIN_MODE\",\n0.125,\n0.3333,\nNaN,\nNaN,\nNaN],\n [\"LANDAREA_MODE\",\n0.0377,\n0.0128,\nNaN,\nNaN,\nNaN],\n [\"LIVINGAPARTMENTS_MODE\",\n0.022,\n0.079,\nNaN,\nNaN,\nNaN],\n [\"LIVINGAREA_MODE\",\n0.0198,\n0.0554,\nNaN,\nNaN,\nNaN],\n [\"NONLIVINGAPARTMENTS_MODE\",\n0.0,\n0.0,\nNaN,\nNaN,\nNaN],\n [\"NONLIVINGAREA_MODE\",\n0.0,\n0.0,\nNaN,\nNaN,\nNaN],\n [\"APARTMENTS_MEDI\",\n0.025,\n0.0968,\nNaN,\nNaN,\nNaN],\n [\"BASEMENTAREA_MEDI\",\n0.0369,\n0.0529,\nNaN,\nNaN,\nNaN],\n [\"YEARS_BEGINEXPLUATATION_MEDI\",\n0.9722,\n0.9851,\nNaN,\nNaN,\nNaN],\n [\"YEARS_BUILD_MEDI\",\n0.6243,\n0.7987,\nNaN,\nNaN,\nNaN],\n [\"COMMONAREA_MEDI\",\n0.0144,\n0.0608,\nNaN,\nNaN,\nNaN],\n [\"ELEVATORS_MEDI\",\n0.0,\n0.08,\nNaN,\nNaN,\nNaN],\n [\"ENTRANCES_MEDI\",\n0.069,\n0.0345,\nNaN,\nNaN,\nNaN],\n [\"FLOORSMAX_MEDI\",\n0.0833,\n0.2917,\nNaN,\nNaN,\nNaN],\n [\"FLOORSMIN_MEDI\",\n0.125,\n0.3333,\nNaN,\nNaN,\nNaN],\n [\"LANDAREA_MEDI\",\n0.0375,\n0.0132,\nNaN,\nNaN,\nNaN],\n [\"LIVINGAPARTMENTS_MEDI\",\n0.0205,\n0.0787,\nNaN,\nNaN,\nNaN],\n [\"LIVINGAREA_MEDI\",\n0.0193,\n0.0558,\nNaN,\nNaN,\nNaN],\n [\"NONLIVINGAPARTMENTS_MEDI\",\n0.0,\n0.0039,\nNaN,\nNaN,\nNaN],\n [\"NONLIVINGAREA_MEDI\",\n0.0,\n0.01,\nNaN,\nNaN,\nNaN],\n [\"FONDKAPREMONT_MODE\",\n\"reg oper account\",\n\"reg oper account\",\nNaN,\nNaN,\nNaN],\n [\"HOUSETYPE_MODE\",\n\"block of flats\",\n\"block of flats\",\nNaN,\nNaN,\nNaN],\n [\"TOTALAREA_MODE\",\n0.0149,\n0.0714,\nNaN,\nNaN,\nNaN],\n [\"WALLSMATERIAL_MODE\",\n\"Stone, brick\",\n\"Block\",\nNaN,\nNaN,\nNaN],\n [\"EMERGENCYSTATE_MODE\",\n\"No\",\n\"No\",\nNaN,\nNaN,\nNaN],\n [\"OBS_30_CNT_SOCIAL_CIRCLE\",\n2.0,\n1.0,\n0.0,\n2.0,\n0.0],\n [\"DEF_30_CNT_SOCIAL_CIRCLE\",\n2.0,\n0.0,\n0.0,\n0.0,\n0.0],\n [\"OBS_60_CNT_SOCIAL_CIRCLE\",\n2.0,\n1.0,\n0.0,\n2.0,\n0.0],\n [\"DEF_60_CNT_SOCIAL_CIRCLE\",\n2.0,\n0.0,\n0.0,\n0.0,\n0.0],\n [\"DAYS_LAST_PHONE_CHANGE\",\n-1134.0,\n-828.0,\n-815.0,\n-617.0,\n-1106.0],\n [\"FLAG_DOCUMENT_2\",\n0,\n0,\n0,\n0,\n0],\n [\"FLAG_DOCUMENT_3\",\n1,\n1,\n0,\n1,\n0],\n [\"FLAG_DOCUMENT_4\",\n0,\n0,\n0,\n0,\n0],\n [\"FLAG_DOCUMENT_5\",\n0,\n0,\n0,\n0,\n0],\n [\"FLAG_DOCUMENT_6\",\n0,\n0,\n0,\n0,\n0],\n [\"FLAG_DOCUMENT_7\",\n0,\n0,\n0,\n0,\n0],\n [\"FLAG_DOCUMENT_8\",\n0,\n0,\n0,\n0,\n1],\n [\"FLAG_DOCUMENT_9\",\n0,\n0,\n0,\n0,\n0],\n [\"FLAG_DOCUMENT_10\",\n0,\n0,\n0,\n0,\n0],\n [\"FLAG_DOCUMENT_11\",\n0,\n0,\n0,\n0,\n0],\n [\"FLAG_DOCUMENT_12\",\n0,\n0,\n0,\n0,\n0],\n [\"FLAG_DOCUMENT_13\",\n0,\n0,\n0,\n0,\n0],\n [\"FLAG_DOCUMENT_14\",\n0,\n0,\n0,\n0,\n0],\n [\"FLAG_DOCUMENT_15\",\n0,\n0,\n0,\n0,\n0],\n [\"FLAG_DOCUMENT_16\",\n0,\n0,\n0,\n0,\n0],\n [\"FLAG_DOCUMENT_17\",\n0,\n0,\n0,\n0,\n0],\n [\"FLAG_DOCUMENT_18\",\n0,\n0,\n0,\n0,\n0],\n [\"FLAG_DOCUMENT_19\",\n0,\n0,\n0,\n0,\n0],\n [\"FLAG_DOCUMENT_20\",\n0,\n0,\n0,\n0,\n0],\n [\"FLAG_DOCUMENT_21\",\n0,\n0,\n0,\n0,\n0],\n [\"AMT_REQ_CREDIT_BUREAU_HOUR\",\n0.0,\n0.0,\n0.0,\nNaN,\n0.0],\n [\"AMT_REQ_CREDIT_BUREAU_DAY\",\n0.0,\n0.0,\n0.0,\nNaN,\n0.0],\n [\"AMT_REQ_CREDIT_BUREAU_WEEK\",\n0.0,\n0.0,\n0.0,\nNaN,\n0.0],\n [\"AMT_REQ_CREDIT_BUREAU_MON\",\n0.0,\n0.0,\n0.0,\nNaN,\n0.0],\n [\"AMT_REQ_CREDIT_BUREAU_QRT\",\n0.0,\n0.0,\n0.0,\nNaN,\n0.0],\n [\"AMT_REQ_CREDIT_BUREAU_YEAR\",\n1.0,\n0.0,\n0.0,\nNaN,\n0.0]],\n        columns: [[\"string\", \"index\"], [\"string\", \"0\"], [\"string\", \"1\"], [\"string\", \"2\"], [\"string\", \"3\"], [\"string\", \"4\"]],\n        columnOptions: [{\"width\": \"1px\", \"className\": \"index_column\"}],\n        rowsPerPage: 25,\n        helpUrl: \"https://colab.research.google.com/notebooks/data_table.ipynb\",\n        suppressOutputScrolling: true,\n        minimumWidth: undefined,\n      });\n    "
          },
          "metadata": {},
          "execution_count": 12
        }
      ],
      "source": [
        "data_table.enable_dataframe_formatter()\n",
        "first_records = loans_data_train.head(5).T\n",
        "first_records"
      ],
      "id": "ac9c85b3-52e0-4b80-9753-afb81f92bd0d"
    },
    {
      "cell_type": "code",
      "execution_count": null,
      "metadata": {
        "id": "WWD7gSZmCB69"
      },
      "outputs": [],
      "source": [
        "data_table.disable_dataframe_formatter()"
      ],
      "id": "WWD7gSZmCB69"
    },
    {
      "cell_type": "markdown",
      "metadata": {
        "id": "59da8f46-e503-4b67-8e73-ac61c394824c"
      },
      "source": [
        "4- Show the distribution of the target variable values: print the total value count and the percentage of each value, plot this relationship."
      ],
      "id": "59da8f46-e503-4b67-8e73-ac61c394824c"
    },
    {
      "cell_type": "code",
      "execution_count": null,
      "metadata": {
        "colab": {
          "base_uri": "https://localhost:8080/"
        },
        "id": "8855d370-c825-415b-9dd0-9dbdd576fada",
        "outputId": "75be87e7-c6e0-4070-dc63-6c9b9c3ab3eb"
      },
      "outputs": [
        {
          "output_type": "execute_result",
          "data": {
            "text/plain": [
              "0    282686\n",
              "1     24825\n",
              "Name: TARGET, dtype: int64"
            ]
          },
          "metadata": {},
          "execution_count": 14
        }
      ],
      "source": [
        "loans_data_train.TARGET.value_counts()"
      ],
      "id": "8855d370-c825-415b-9dd0-9dbdd576fada"
    },
    {
      "cell_type": "code",
      "source": [
        "loans_data_train.TARGET.value_counts()/len(loans_data_train)*100"
      ],
      "metadata": {
        "colab": {
          "base_uri": "https://localhost:8080/"
        },
        "id": "9HiHkVMsnsLb",
        "outputId": "b6251409-b843-415c-caa7-c0abf53b4a30"
      },
      "id": "9HiHkVMsnsLb",
      "execution_count": null,
      "outputs": [
        {
          "output_type": "execute_result",
          "data": {
            "text/plain": [
              "0    91.927118\n",
              "1     8.072882\n",
              "Name: TARGET, dtype: float64"
            ]
          },
          "metadata": {},
          "execution_count": 15
        }
      ]
    },
    {
      "cell_type": "code",
      "execution_count": null,
      "metadata": {
        "colab": {
          "base_uri": "https://localhost:8080/",
          "height": 268
        },
        "id": "Jcz1iCepGYY-",
        "outputId": "cba265b0-b000-47ba-d049-539a6cfc0aa6"
      },
      "outputs": [
        {
          "output_type": "display_data",
          "data": {
            "text/plain": [
              "<Figure size 432x288 with 1 Axes>"
            ],
            "image/png": "[encoded data removed]"
          },
          "metadata": {}
        }
      ],
      "source": [
        "ax = sns.barplot(x=loans_data_train.TARGET.unique(), y=loans_data_train.TARGET.value_counts()/len(loans_data_train)*100)\n",
        "plt.show()"
      ],
      "id": "Jcz1iCepGYY-"
    },
    {
      "cell_type": "markdown",
      "metadata": {
        "id": "cc7b5a63-da31-4a61-9e91-9708dc7633a7"
      },
      "source": [
        "5- Show the number of columns of each data type"
      ],
      "id": "cc7b5a63-da31-4a61-9e91-9708dc7633a7"
    },
    {
      "cell_type": "code",
      "execution_count": null,
      "metadata": {
        "id": "jeWOXTgKMeZd"
      },
      "outputs": [],
      "source": [
        "object_columns=[]\n",
        "float_columns=[]\n",
        "int_columns=[]\n",
        "\n",
        "for i in loans_data_train.columns:\n",
        "  if loans_data_train[i].dtype == \"object\":\n",
        "    object_columns.append(i)\n",
        "  elif loans_data_train[i].dtype == \"int64\":\n",
        "    int_columns.append(i)\n",
        "  elif loans_data_train[i].dtype == \"float64\":\n",
        "    float_columns.append(i)"
      ],
      "id": "jeWOXTgKMeZd"
    },
    {
      "cell_type": "code",
      "execution_count": null,
      "metadata": {
        "colab": {
          "base_uri": "https://localhost:8080/"
        },
        "id": "lJ0_XdweNOvx",
        "outputId": "0687a57c-44e0-4396-fa48-7494f26a12ca"
      },
      "outputs": [
        {
          "output_type": "stream",
          "name": "stdout",
          "text": [
            "There are 16 object columns.\n",
            "There are 65 float columns.\n",
            "There are 41 integer columns.\n"
          ]
        }
      ],
      "source": [
        "n_o_cols = len(object_columns)\n",
        "n_fl_cols = len(float_columns)\n",
        "n_int_cols = len(int_columns)\n",
        "\n",
        "print(f\"There are {n_o_cols} object columns.\")\n",
        "print(f\"There are {n_fl_cols} float columns.\")\n",
        "print(f\"There are {n_int_cols} integer columns.\")"
      ],
      "id": "lJ0_XdweNOvx"
    },
    {
      "cell_type": "markdown",
      "metadata": {
        "id": "c0a8799e-d32a-4239-a85d-6ff29ab4682f"
      },
      "source": [
        "6- For categorical variables, show the number of distinct values in each column (number of labels)"
      ],
      "id": "c0a8799e-d32a-4239-a85d-6ff29ab4682f"
    },
    {
      "cell_type": "code",
      "source": [
        "tipos = pd.DataFrame(loans_data_train.dtypes, index=loans_data_train.columns)\n",
        "tipos.columns = [\"Tipo\"]\n",
        "tipos[\"N_categorias\"] = \"~\"\n",
        "tipos[\"Categorias\"] = \"~\"\n",
        "for col in loans_data_train.columns:\n",
        "  if  tipos[\"Tipo\"][col] == \"object\":\n",
        "    tipos[\"N_categorias\"][col] = loans_data_train[col].nunique()\n",
        "    tipos[\"Categorias\"][col] = str(list(loans_data_train[col].unique()))[1:-1]\n",
        "tipos = tipos.loc[tipos.Categorias!=\"~\"]"
      ],
      "metadata": {
        "id": "VsebLzHiYi9T"
      },
      "id": "VsebLzHiYi9T",
      "execution_count": null,
      "outputs": []
    },
    {
      "cell_type": "code",
      "source": [
        "data_table.enable_dataframe_formatter()\n",
        "tipos"
      ],
      "metadata": {
        "colab": {
          "base_uri": "https://localhost:8080/",
          "height": 536
        },
        "id": "6UQhyy5wY_Vn",
        "outputId": "57a7977a-98b1-4554-cd1b-d403845ab0df"
      },
      "id": "6UQhyy5wY_Vn",
      "execution_count": null,
      "outputs": [
        {
          "output_type": "execute_result",
          "data": {
            "text/plain": [
              "                              Tipo N_categorias  \\\n",
              "NAME_CONTRACT_TYPE          object            2   \n",
              "CODE_GENDER                 object            3   \n",
              "FLAG_OWN_CAR                object            2   \n",
              "FLAG_OWN_REALTY             object            2   \n",
              "NAME_TYPE_SUITE             object            7   \n",
              "NAME_INCOME_TYPE            object            8   \n",
              "NAME_EDUCATION_TYPE         object            5   \n",
              "NAME_FAMILY_STATUS          object            6   \n",
              "NAME_HOUSING_TYPE           object            6   \n",
              "OCCUPATION_TYPE             object           18   \n",
              "WEEKDAY_APPR_PROCESS_START  object            7   \n",
              "ORGANIZATION_TYPE           object           58   \n",
              "FONDKAPREMONT_MODE          object            4   \n",
              "HOUSETYPE_MODE              object            3   \n",
              "WALLSMATERIAL_MODE          object            7   \n",
              "EMERGENCYSTATE_MODE         object            2   \n",
              "\n",
              "                                                                   Categorias  \n",
              "NAME_CONTRACT_TYPE                            'Cash loans', 'Revolving loans'  \n",
              "CODE_GENDER                                                   'M', 'F', 'XNA'  \n",
              "FLAG_OWN_CAR                                                         'N', 'Y'  \n",
              "FLAG_OWN_REALTY                                                      'Y', 'N'  \n",
              "NAME_TYPE_SUITE             'Unaccompanied', 'Family', 'Spouse, partner', ...  \n",
              "NAME_INCOME_TYPE            'Working', 'State servant', 'Commercial associ...  \n",
              "NAME_EDUCATION_TYPE         'Secondary / secondary special', 'Higher educa...  \n",
              "NAME_FAMILY_STATUS          'Single / not married', 'Married', 'Civil marr...  \n",
              "NAME_HOUSING_TYPE           'House / apartment', 'Rented apartment', 'With...  \n",
              "OCCUPATION_TYPE             'Laborers', 'Core staff', 'Accountants', 'Mana...  \n",
              "WEEKDAY_APPR_PROCESS_START  'WEDNESDAY', 'MONDAY', 'THURSDAY', 'SUNDAY', '...  \n",
              "ORGANIZATION_TYPE           'Business Entity Type 3', 'School', 'Governmen...  \n",
              "FONDKAPREMONT_MODE          'reg oper account', nan, 'org spec account', '...  \n",
              "HOUSETYPE_MODE              'block of flats', nan, 'terraced house', 'spec...  \n",
              "WALLSMATERIAL_MODE          'Stone, brick', 'Block', nan, 'Panel', 'Mixed'...  \n",
              "EMERGENCYSTATE_MODE                                          'No', nan, 'Yes'  "
            ],
            "text/html": [
              "\n",
              "  <div id=\"df-dbd37591-4429-4f60-9a84-d8ef713c9539\">\n",
              "    <div class=\"colab-df-container\">\n",
              "      <div>\n",
              "<style scoped>\n",
              "    .dataframe tbody tr th:only-of-type {\n",
              "        vertical-align: middle;\n",
              "    }\n",
              "\n",
              "    .dataframe tbody tr th {\n",
              "        vertical-align: top;\n",
              "    }\n",
              "\n",
              "    .dataframe thead th {\n",
              "        text-align: right;\n",
              "    }\n",
              "</style>\n",
              "<table border=\"1\" class=\"dataframe\">\n",
              "  <thead>\n",
              "    <tr style=\"text-align: right;\">\n",
              "      <th></th>\n",
              "      <th>Tipo</th>\n",
              "      <th>N_categorias</th>\n",
              "      <th>Categorias</th>\n",
              "    </tr>\n",
              "  </thead>\n",
              "  <tbody>\n",
              "    <tr>\n",
              "      <th>NAME_CONTRACT_TYPE</th>\n",
              "      <td>object</td>\n",
              "      <td>2</td>\n",
              "      <td>'Cash loans', 'Revolving loans'</td>\n",
              "    </tr>\n",
              "    <tr>\n",
              "      <th>CODE_GENDER</th>\n",
              "      <td>object</td>\n",
              "      <td>3</td>\n",
              "      <td>'M', 'F', 'XNA'</td>\n",
              "    </tr>\n",
              "    <tr>\n",
              "      <th>FLAG_OWN_CAR</th>\n",
              "      <td>object</td>\n",
              "      <td>2</td>\n",
              "      <td>'N', 'Y'</td>\n",
              "    </tr>\n",
              "    <tr>\n",
              "      <th>FLAG_OWN_REALTY</th>\n",
              "      <td>object</td>\n",
              "      <td>2</td>\n",
              "      <td>'Y', 'N'</td>\n",
              "    </tr>\n",
              "    <tr>\n",
              "      <th>NAME_TYPE_SUITE</th>\n",
              "      <td>object</td>\n",
              "      <td>7</td>\n",
              "      <td>'Unaccompanied', 'Family', 'Spouse, partner', ...</td>\n",
              "    </tr>\n",
              "    <tr>\n",
              "      <th>NAME_INCOME_TYPE</th>\n",
              "      <td>object</td>\n",
              "      <td>8</td>\n",
              "      <td>'Working', 'State servant', 'Commercial associ...</td>\n",
              "    </tr>\n",
              "    <tr>\n",
              "      <th>NAME_EDUCATION_TYPE</th>\n",
              "      <td>object</td>\n",
              "      <td>5</td>\n",
              "      <td>'Secondary / secondary special', 'Higher educa...</td>\n",
              "    </tr>\n",
              "    <tr>\n",
              "      <th>NAME_FAMILY_STATUS</th>\n",
              "      <td>object</td>\n",
              "      <td>6</td>\n",
              "      <td>'Single / not married', 'Married', 'Civil marr...</td>\n",
              "    </tr>\n",
              "    <tr>\n",
              "      <th>NAME_HOUSING_TYPE</th>\n",
              "      <td>object</td>\n",
              "      <td>6</td>\n",
              "      <td>'House / apartment', 'Rented apartment', 'With...</td>\n",
              "    </tr>\n",
              "    <tr>\n",
              "      <th>OCCUPATION_TYPE</th>\n",
              "      <td>object</td>\n",
              "      <td>18</td>\n",
              "      <td>'Laborers', 'Core staff', 'Accountants', 'Mana...</td>\n",
              "    </tr>\n",
              "    <tr>\n",
              "      <th>WEEKDAY_APPR_PROCESS_START</th>\n",
              "      <td>object</td>\n",
              "      <td>7</td>\n",
              "      <td>'WEDNESDAY', 'MONDAY', 'THURSDAY', 'SUNDAY', '...</td>\n",
              "    </tr>\n",
              "    <tr>\n",
              "      <th>ORGANIZATION_TYPE</th>\n",
              "      <td>object</td>\n",
              "      <td>58</td>\n",
              "      <td>'Business Entity Type 3', 'School', 'Governmen...</td>\n",
              "    </tr>\n",
              "    <tr>\n",
              "      <th>FONDKAPREMONT_MODE</th>\n",
              "      <td>object</td>\n",
              "      <td>4</td>\n",
              "      <td>'reg oper account', nan, 'org spec account', '...</td>\n",
              "    </tr>\n",
              "    <tr>\n",
              "      <th>HOUSETYPE_MODE</th>\n",
              "      <td>object</td>\n",
              "      <td>3</td>\n",
              "      <td>'block of flats', nan, 'terraced house', 'spec...</td>\n",
              "    </tr>\n",
              "    <tr>\n",
              "      <th>WALLSMATERIAL_MODE</th>\n",
              "      <td>object</td>\n",
              "      <td>7</td>\n",
              "      <td>'Stone, brick', 'Block', nan, 'Panel', 'Mixed'...</td>\n",
              "    </tr>\n",
              "    <tr>\n",
              "      <th>EMERGENCYSTATE_MODE</th>\n",
              "      <td>object</td>\n",
              "      <td>2</td>\n",
              "      <td>'No', nan, 'Yes'</td>\n",
              "    </tr>\n",
              "  </tbody>\n",
              "</table>\n",
              "</div>\n",
              "      <button class=\"colab-df-convert\" onclick=\"convertToInteractive('df-dbd37591-4429-4f60-9a84-d8ef713c9539')\"\n",
              "              title=\"Convert this dataframe to an interactive table.\"\n",
              "              style=\"display:none;\">\n",
              "        \n",
              "  <svg xmlns=\"http://www.w3.org/2000/svg\" height=\"24px\"viewBox=\"0 0 24 24\"\n",
              "       width=\"24px\">\n",
              "    <path d=\"M0 0h24v24H0V0z\" fill=\"none\"/>\n",
              "    <path d=\"M18.56 5.44l.94 2.06.94-2.06 2.06-.94-2.06-.94-.94-2.06-.94 2.06-2.06.94zm-11 1L8.5 8.5l.94-2.06 2.06-.94-2.06-.94L8.5 2.5l-.94 2.06-2.06.94zm10 10l.94 2.06.94-2.06 2.06-.94-2.06-.94-.94-2.06-.94 2.06-2.06.94z\"/><path d=\"M17.41 7.96l-1.37-1.37c-.4-.4-.92-.59-1.43-.59-.52 0-1.04.2-1.43.59L10.3 9.45l-7.72 7.72c-.78.78-.78 2.05 0 2.83L4 21.41c.39.39.9.59 1.41.59.51 0 1.02-.2 1.41-.59l7.78-7.78 2.81-2.81c.8-.78.8-2.07 0-2.86zM5.41 20L4 18.59l7.72-7.72 1.47 1.35L5.41 20z\"/>\n",
              "  </svg>\n",
              "      </button>\n",
              "      \n",
              "  <style>\n",
              "    .colab-df-container {\n",
              "      display:flex;\n",
              "      flex-wrap:wrap;\n",
              "      gap: 12px;\n",
              "    }\n",
              "\n",
              "    .colab-df-convert {\n",
              "      background-color: #E8F0FE;\n",
              "      border: none;\n",
              "      border-radius: 50%;\n",
              "      cursor: pointer;\n",
              "      display: none;\n",
              "      fill: #1967D2;\n",
              "      height: 32px;\n",
              "      padding: 0 0 0 0;\n",
              "      width: 32px;\n",
              "    }\n",
              "\n",
              "    .colab-df-convert:hover {\n",
              "      background-color: #E2EBFA;\n",
              "      box-shadow: 0px 1px 2px rgba(60, 64, 67, 0.3), 0px 1px 3px 1px rgba(60, 64, 67, 0.15);\n",
              "      fill: #174EA6;\n",
              "    }\n",
              "\n",
              "    [theme=dark] .colab-df-convert {\n",
              "      background-color: #3B4455;\n",
              "      fill: #D2E3FC;\n",
              "    }\n",
              "\n",
              "    [theme=dark] .colab-df-convert:hover {\n",
              "      background-color: #434B5C;\n",
              "      box-shadow: 0px 1px 3px 1px rgba(0, 0, 0, 0.15);\n",
              "      filter: drop-shadow(0px 1px 2px rgba(0, 0, 0, 0.3));\n",
              "      fill: #FFFFFF;\n",
              "    }\n",
              "  </style>\n",
              "\n",
              "      <script>\n",
              "        const buttonEl =\n",
              "          document.querySelector('#df-dbd37591-4429-4f60-9a84-d8ef713c9539 button.colab-df-convert');\n",
              "        buttonEl.style.display =\n",
              "          google.colab.kernel.accessAllowed ? 'block' : 'none';\n",
              "\n",
              "        async function convertToInteractive(key) {\n",
              "          const element = document.querySelector('#df-dbd37591-4429-4f60-9a84-d8ef713c9539');\n",
              "          const dataTable =\n",
              "            await google.colab.kernel.invokeFunction('convertToInteractive',\n",
              "                                                     [key], {});\n",
              "          if (!dataTable) return;\n",
              "\n",
              "          const docLinkHtml = 'Like what you see? Visit the ' +\n",
              "            '<a target=\"_blank\" href=https://colab.research.google.com/notebooks/data_table.ipynb>data table notebook</a>'\n",
              "            + ' to learn more about interactive tables.';\n",
              "          element.innerHTML = '';\n",
              "          dataTable['output_type'] = 'display_data';\n",
              "          await google.colab.output.renderOutput(dataTable, element);\n",
              "          const docLink = document.createElement('div');\n",
              "          docLink.innerHTML = docLinkHtml;\n",
              "          element.appendChild(docLink);\n",
              "        }\n",
              "      </script>\n",
              "    </div>\n",
              "  </div>\n",
              "  "
            ],
            "application/vnd.google.colaboratory.module+javascript": "\n      import \"https://ssl.gstatic.com/colaboratory/data_table/f872b2c2305463fd/data_table.js\";\n\n      window.createDataTable({\n        data: [[\"NAME_CONTRACT_TYPE\",\n\"object\",\n{\n            'v': 2,\n            'f': \"2\",\n        },\n\"'Cash loans', 'Revolving loans'\"],\n [\"CODE_GENDER\",\n\"object\",\n{\n            'v': 3,\n            'f': \"3\",\n        },\n\"'M', 'F', 'XNA'\"],\n [\"FLAG_OWN_CAR\",\n\"object\",\n{\n            'v': 2,\n            'f': \"2\",\n        },\n\"'N', 'Y'\"],\n [\"FLAG_OWN_REALTY\",\n\"object\",\n{\n            'v': 2,\n            'f': \"2\",\n        },\n\"'Y', 'N'\"],\n [\"NAME_TYPE_SUITE\",\n\"object\",\n{\n            'v': 7,\n            'f': \"7\",\n        },\n\"'Unaccompanied', 'Family', 'Spouse, partner', 'Children', 'Other_A', nan, 'Other_B', 'Group of people'\"],\n [\"NAME_INCOME_TYPE\",\n\"object\",\n{\n            'v': 8,\n            'f': \"8\",\n        },\n\"'Working', 'State servant', 'Commercial associate', 'Pensioner', 'Unemployed', 'Student', 'Businessman', 'Maternity leave'\"],\n [\"NAME_EDUCATION_TYPE\",\n\"object\",\n{\n            'v': 5,\n            'f': \"5\",\n        },\n\"'Secondary / secondary special', 'Higher education', 'Incomplete higher', 'Lower secondary', 'Academic degree'\"],\n [\"NAME_FAMILY_STATUS\",\n\"object\",\n{\n            'v': 6,\n            'f': \"6\",\n        },\n\"'Single / not married', 'Married', 'Civil marriage', 'Widow', 'Separated', 'Unknown'\"],\n [\"NAME_HOUSING_TYPE\",\n\"object\",\n{\n            'v': 6,\n            'f': \"6\",\n        },\n\"'House / apartment', 'Rented apartment', 'With parents', 'Municipal apartment', 'Office apartment', 'Co-op apartment'\"],\n [\"OCCUPATION_TYPE\",\n\"object\",\n{\n            'v': 18,\n            'f': \"18\",\n        },\n\"'Laborers', 'Core staff', 'Accountants', 'Managers', nan, 'Drivers', 'Sales staff', 'Cleaning staff', 'Cooking staff', 'Private service staff', 'Medicine staff', 'Security staff', 'High skill tech staff', 'Waiters/barmen staff', 'Low-skill Laborers', 'Realty agents', 'Secretaries', 'IT staff', 'HR staff'\"],\n [\"WEEKDAY_APPR_PROCESS_START\",\n\"object\",\n{\n            'v': 7,\n            'f': \"7\",\n        },\n\"'WEDNESDAY', 'MONDAY', 'THURSDAY', 'SUNDAY', 'SATURDAY', 'FRIDAY', 'TUESDAY'\"],\n [\"ORGANIZATION_TYPE\",\n\"object\",\n{\n            'v': 58,\n            'f': \"58\",\n        },\n\"'Business Entity Type 3', 'School', 'Government', 'Religion', 'Other', 'XNA', 'Electricity', 'Medicine', 'Business Entity Type 2', 'Self-employed', 'Transport: type 2', 'Construction', 'Housing', 'Kindergarten', 'Trade: type 7', 'Industry: type 11', 'Military', 'Services', 'Security Ministries', 'Transport: type 4', 'Industry: type 1', 'Emergency', 'Security', 'Trade: type 2', 'University', 'Transport: type 3', 'Police', 'Business Entity Type 1', 'Postal', 'Industry: type 4', 'Agriculture', 'Restaurant', 'Culture', 'Hotel', 'Industry: type 7', 'Trade: type 3', 'Industry: type 3', 'Bank', 'Industry: type 9', 'Insurance', 'Trade: type 6', 'Industry: type 2', 'Transport: type 1', 'Industry: type 12', 'Mobile', 'Trade: type 1', 'Industry: type 5', 'Industry: type 10', 'Legal Services', 'Advertising', 'Trade: type 5', 'Cleaning', 'Industry: type 13', 'Trade: type 4', 'Telecom', 'Industry: type 8', 'Realtor', 'Industry: type 6'\"],\n [\"FONDKAPREMONT_MODE\",\n\"object\",\n{\n            'v': 4,\n            'f': \"4\",\n        },\n\"'reg oper account', nan, 'org spec account', 'reg oper spec account', 'not specified'\"],\n [\"HOUSETYPE_MODE\",\n\"object\",\n{\n            'v': 3,\n            'f': \"3\",\n        },\n\"'block of flats', nan, 'terraced house', 'specific housing'\"],\n [\"WALLSMATERIAL_MODE\",\n\"object\",\n{\n            'v': 7,\n            'f': \"7\",\n        },\n\"'Stone, brick', 'Block', nan, 'Panel', 'Mixed', 'Wooden', 'Others', 'Monolithic'\"],\n [\"EMERGENCYSTATE_MODE\",\n\"object\",\n{\n            'v': 2,\n            'f': \"2\",\n        },\n\"'No', nan, 'Yes'\"]],\n        columns: [[\"string\", \"index\"], [\"string\", \"Tipo\"], [\"number\", \"N_categorias\"], [\"string\", \"Categorias\"]],\n        columnOptions: [{\"width\": \"1px\", \"className\": \"index_column\"}],\n        rowsPerPage: 25,\n        helpUrl: \"https://colab.research.google.com/notebooks/data_table.ipynb\",\n        suppressOutputScrolling: true,\n        minimumWidth: undefined,\n      });\n    "
          },
          "metadata": {},
          "execution_count": 20
        }
      ]
    },
    {
      "cell_type": "code",
      "source": [
        "data_table.disable_dataframe_formatter()"
      ],
      "metadata": {
        "id": "MZ_w_hGFZBSp"
      },
      "id": "MZ_w_hGFZBSp",
      "execution_count": null,
      "outputs": []
    },
    {
      "cell_type": "markdown",
      "metadata": {
        "id": "967d1938-e27d-4fbd-9bdc-f26364f5fdfd"
      },
      "source": [
        "7- Analyzing missing data: show the percentage of missing data for each column ordered by percentage descending (show only the 20 columns with higher missing pct)"
      ],
      "id": "967d1938-e27d-4fbd-9bdc-f26364f5fdfd"
    },
    {
      "cell_type": "code",
      "execution_count": null,
      "metadata": {
        "colab": {
          "base_uri": "https://localhost:8080/"
        },
        "id": "0b65aa7e-d8a2-44b0-9803-ca5277471470",
        "outputId": "56f06803-ca9c-4ecd-9466-243d20c8be8c"
      },
      "outputs": [
        {
          "output_type": "stream",
          "name": "stdout",
          "text": [
            "COMMONAREA_MEDI             69.872297\n",
            "COMMONAREA_AVG              69.872297\n",
            "COMMONAREA_MODE             69.872297\n",
            "NONLIVINGAPARTMENTS_MODE    69.432963\n",
            "NONLIVINGAPARTMENTS_AVG     69.432963\n",
            "NONLIVINGAPARTMENTS_MEDI    69.432963\n",
            "FONDKAPREMONT_MODE          68.386172\n",
            "LIVINGAPARTMENTS_MODE       68.354953\n",
            "LIVINGAPARTMENTS_AVG        68.354953\n",
            "LIVINGAPARTMENTS_MEDI       68.354953\n",
            "FLOORSMIN_AVG               67.848630\n",
            "FLOORSMIN_MODE              67.848630\n",
            "FLOORSMIN_MEDI              67.848630\n",
            "YEARS_BUILD_MEDI            66.497784\n",
            "YEARS_BUILD_MODE            66.497784\n",
            "YEARS_BUILD_AVG             66.497784\n",
            "OWN_CAR_AGE                 65.990810\n",
            "LANDAREA_MEDI               59.376738\n",
            "LANDAREA_MODE               59.376738\n",
            "LANDAREA_AVG                59.376738\n",
            "dtype: float64\n"
          ]
        }
      ],
      "source": [
        "pd.set_option(\"display.max_rows\", None, \"display.max_columns\", None)\n",
        "print(loans_data_train.isnull().sum().sort_values(ascending=False).head(20)/len(loans_data_train)*100)\n",
        "pd.set_option(\"display.max_rows\", 10, \"display.max_columns\", 10)"
      ],
      "id": "0b65aa7e-d8a2-44b0-9803-ca5277471470"
    },
    {
      "cell_type": "markdown",
      "metadata": {
        "id": "783c5bb6-6b6d-4e34-bbe2-3a5dc319a4f0"
      },
      "source": [
        "**Analyzing distribution of variables**"
      ],
      "id": "783c5bb6-6b6d-4e34-bbe2-3a5dc319a4f0"
    },
    {
      "cell_type": "markdown",
      "metadata": {
        "id": "9c79d319-bde8-47a4-890d-6694edf221e2"
      },
      "source": [
        "1- Show the distribution of credit amounts"
      ],
      "id": "9c79d319-bde8-47a4-890d-6694edf221e2"
    },
    {
      "cell_type": "code",
      "execution_count": null,
      "metadata": {
        "colab": {
          "base_uri": "https://localhost:8080/",
          "height": 365
        },
        "id": "bc953042-9744-498e-a435-fa660e76c70d",
        "outputId": "f1abc0e0-8807-40aa-82bf-82dc74e7da2e"
      },
      "outputs": [
        {
          "output_type": "display_data",
          "data": {
            "text/plain": [
              "<Figure size 360x360 with 1 Axes>"
            ],
            "image/png": "[encoded data removed]"
          },
          "metadata": {}
        }
      ],
      "source": [
        "sns.displot(data=loans_data_train, x=\"AMT_CREDIT\", kde=True, bins=40)\n",
        "plt.show()"
      ],
      "id": "bc953042-9744-498e-a435-fa660e76c70d"
    },
    {
      "cell_type": "markdown",
      "metadata": {
        "id": "f4e7bf4a-25c7-47c0-aea8-ed916d8827f6"
      },
      "source": [
        "2- Plot the education level of the credit applicants, show the percentages of each category. Also print the total counts for each category."
      ],
      "id": "f4e7bf4a-25c7-47c0-aea8-ed916d8827f6"
    },
    {
      "cell_type": "code",
      "execution_count": null,
      "metadata": {
        "id": "EqPfVVh8bh7H"
      },
      "outputs": [],
      "source": [
        "ed_level_data = pd.DataFrame(loans_data_train.NAME_EDUCATION_TYPE.value_counts().copy())\n",
        "ed_level_data.columns = [\"Count\"]\n",
        "ed_level_data[\"Percent\"] = round(ed_level_data[\"Count\"]/sum(ed_level_data[\"Count\"])*100,2)"
      ],
      "id": "EqPfVVh8bh7H"
    },
    {
      "cell_type": "code",
      "execution_count": null,
      "metadata": {
        "colab": {
          "base_uri": "https://localhost:8080/",
          "height": 653
        },
        "id": "406d7d06-b21a-4938-8e3d-11798def489b",
        "outputId": "3072b373-ef33-4562-dcd6-2690d760fd8a"
      },
      "outputs": [
        {
          "output_type": "stream",
          "name": "stdout",
          "text": [
            "Secondary / secondary special    218391\n",
            "Higher education                  74863\n",
            "Incomplete higher                 10277\n",
            "Lower secondary                    3816\n",
            "Academic degree                     164\n",
            "Name: NAME_EDUCATION_TYPE, dtype: int64\n"
          ]
        },
        {
          "output_type": "display_data",
          "data": {
            "text/html": [
              "<html>\n",
              "<head><meta charset=\"utf-8\" /></head>\n",
              "<body>\n",
              "    <div>            <script src=\"https://cdnjs.cloudflare.com/ajax/libs/mathjax/2.7.5/MathJax.js?config=TeX-AMS-MML_SVG\"></script><script type=\"text/javascript\">if (window.MathJax) {MathJax.Hub.Config({SVG: {font: \"STIX-Web\"}});}</script>                <script type=\"text/javascript\">window.PlotlyConfig = {MathJaxConfig: 'local'};</script>\n",
              "        <script src=\"https://cdn.plot.ly/plotly-2.8.3.min.js\"></script>                <div id=\"351bdf4d-3a61-47b8-a14c-f94d6228c669\" class=\"plotly-graph-div\" style=\"height:525px; width:100%;\"></div>            <script type=\"text/javascript\">                                    window.PLOTLYENV=window.PLOTLYENV || {};                                    if (document.getElementById(\"351bdf4d-3a61-47b8-a14c-f94d6228c669\")) {                    Plotly.newPlot(                        \"351bdf4d-3a61-47b8-a14c-f94d6228c669\",                        [{\"alignmentgroup\":\"True\",\"customdata\":[[218391],[74863],[10277],[3816],[164]],\"hovertemplate\":\"Percent=%{x}<br>index=%{y}<br>Count=%{customdata[0]}<extra></extra>\",\"legendgroup\":\"\",\"marker\":{\"color\":\"#636efa\",\"pattern\":{\"shape\":\"\"}},\"name\":\"\",\"offsetgroup\":\"\",\"orientation\":\"h\",\"showlegend\":false,\"textposition\":\"auto\",\"x\":[71.02,24.34,3.34,1.24,0.05],\"xaxis\":\"x\",\"y\":[\"Secondary / secondary special\",\"Higher education\",\"Incomplete higher\",\"Lower secondary\",\"Academic degree\"],\"yaxis\":\"y\",\"type\":\"bar\"}],                        {\"template\":{\"data\":{\"bar\":[{\"error_x\":{\"color\":\"#2a3f5f\"},\"error_y\":{\"color\":\"#2a3f5f\"},\"marker\":{\"line\":{\"color\":\"#E5ECF6\",\"width\":0.5},\"pattern\":{\"fillmode\":\"overlay\",\"size\":10,\"solidity\":0.2}},\"type\":\"bar\"}],\"barpolar\":[{\"marker\":{\"line\":{\"color\":\"#E5ECF6\",\"width\":0.5},\"pattern\":{\"fillmode\":\"overlay\",\"size\":10,\"solidity\":0.2}},\"type\":\"barpolar\"}],\"carpet\":[{\"aaxis\":{\"endlinecolor\":\"#2a3f5f\",\"gridcolor\":\"white\",\"linecolor\":\"white\",\"minorgridcolor\":\"white\",\"startlinecolor\":\"#2a3f5f\"},\"baxis\":{\"endlinecolor\":\"#2a3f5f\",\"gridcolor\":\"white\",\"linecolor\":\"white\",\"minorgridcolor\":\"white\",\"startlinecolor\":\"#2a3f5f\"},\"type\":\"carpet\"}],\"choropleth\":[{\"colorbar\":{\"outlinewidth\":0,\"ticks\":\"\"},\"type\":\"choropleth\"}],\"contour\":[{\"colorbar\":{\"outlinewidth\":0,\"ticks\":\"\"},\"colorscale\":[[0.0,\"#0d0887\"],[0.1111111111111111,\"#46039f\"],[0.2222222222222222,\"#7201a8\"],[0.3333333333333333,\"#9c179e\"],[0.4444444444444444,\"#bd3786\"],[0.5555555555555556,\"#d8576b\"],[0.6666666666666666,\"#ed7953\"],[0.7777777777777778,\"#fb9f3a\"],[0.8888888888888888,\"#fdca26\"],[1.0,\"#f0f921\"]],\"type\":\"contour\"}],\"contourcarpet\":[{\"colorbar\":{\"outlinewidth\":0,\"ticks\":\"\"},\"type\":\"contourcarpet\"}],\"heatmap\":[{\"colorbar\":{\"outlinewidth\":0,\"ticks\":\"\"},\"colorscale\":[[0.0,\"#0d0887\"],[0.1111111111111111,\"#46039f\"],[0.2222222222222222,\"#7201a8\"],[0.3333333333333333,\"#9c179e\"],[0.4444444444444444,\"#bd3786\"],[0.5555555555555556,\"#d8576b\"],[0.6666666666666666,\"#ed7953\"],[0.7777777777777778,\"#fb9f3a\"],[0.8888888888888888,\"#fdca26\"],[1.0,\"#f0f921\"]],\"type\":\"heatmap\"}],\"heatmapgl\":[{\"colorbar\":{\"outlinewidth\":0,\"ticks\":\"\"},\"colorscale\":[[0.0,\"#0d0887\"],[0.1111111111111111,\"#46039f\"],[0.2222222222222222,\"#7201a8\"],[0.3333333333333333,\"#9c179e\"],[0.4444444444444444,\"#bd3786\"],[0.5555555555555556,\"#d8576b\"],[0.6666666666666666,\"#ed7953\"],[0.7777777777777778,\"#fb9f3a\"],[0.8888888888888888,\"#fdca26\"],[1.0,\"#f0f921\"]],\"type\":\"heatmapgl\"}],\"histogram\":[{\"marker\":{\"pattern\":{\"fillmode\":\"overlay\",\"size\":10,\"solidity\":0.2}},\"type\":\"histogram\"}],\"histogram2d\":[{\"colorbar\":{\"outlinewidth\":0,\"ticks\":\"\"},\"colorscale\":[[0.0,\"#0d0887\"],[0.1111111111111111,\"#46039f\"],[0.2222222222222222,\"#7201a8\"],[0.3333333333333333,\"#9c179e\"],[0.4444444444444444,\"#bd3786\"],[0.5555555555555556,\"#d8576b\"],[0.6666666666666666,\"#ed7953\"],[0.7777777777777778,\"#fb9f3a\"],[0.8888888888888888,\"#fdca26\"],[1.0,\"#f0f921\"]],\"type\":\"histogram2d\"}],\"histogram2dcontour\":[{\"colorbar\":{\"outlinewidth\":0,\"ticks\":\"\"},\"colorscale\":[[0.0,\"#0d0887\"],[0.1111111111111111,\"#46039f\"],[0.2222222222222222,\"#7201a8\"],[0.3333333333333333,\"#9c179e\"],[0.4444444444444444,\"#bd3786\"],[0.5555555555555556,\"#d8576b\"],[0.6666666666666666,\"#ed7953\"],[0.7777777777777778,\"#fb9f3a\"],[0.8888888888888888,\"#fdca26\"],[1.0,\"#f0f921\"]],\"type\":\"histogram2dcontour\"}],\"mesh3d\":[{\"colorbar\":{\"outlinewidth\":0,\"ticks\":\"\"},\"type\":\"mesh3d\"}],\"parcoords\":[{\"line\":{\"colorbar\":{\"outlinewidth\":0,\"ticks\":\"\"}},\"type\":\"parcoords\"}],\"pie\":[{\"automargin\":true,\"type\":\"pie\"}],\"scatter\":[{\"marker\":{\"colorbar\":{\"outlinewidth\":0,\"ticks\":\"\"}},\"type\":\"scatter\"}],\"scatter3d\":[{\"line\":{\"colorbar\":{\"outlinewidth\":0,\"ticks\":\"\"}},\"marker\":{\"colorbar\":{\"outlinewidth\":0,\"ticks\":\"\"}},\"type\":\"scatter3d\"}],\"scattercarpet\":[{\"marker\":{\"colorbar\":{\"outlinewidth\":0,\"ticks\":\"\"}},\"type\":\"scattercarpet\"}],\"scattergeo\":[{\"marker\":{\"colorbar\":{\"outlinewidth\":0,\"ticks\":\"\"}},\"type\":\"scattergeo\"}],\"scattergl\":[{\"marker\":{\"colorbar\":{\"outlinewidth\":0,\"ticks\":\"\"}},\"type\":\"scattergl\"}],\"scattermapbox\":[{\"marker\":{\"colorbar\":{\"outlinewidth\":0,\"ticks\":\"\"}},\"type\":\"scattermapbox\"}],\"scatterpolar\":[{\"marker\":{\"colorbar\":{\"outlinewidth\":0,\"ticks\":\"\"}},\"type\":\"scatterpolar\"}],\"scatterpolargl\":[{\"marker\":{\"colorbar\":{\"outlinewidth\":0,\"ticks\":\"\"}},\"type\":\"scatterpolargl\"}],\"scatterternary\":[{\"marker\":{\"colorbar\":{\"outlinewidth\":0,\"ticks\":\"\"}},\"type\":\"scatterternary\"}],\"surface\":[{\"colorbar\":{\"outlinewidth\":0,\"ticks\":\"\"},\"colorscale\":[[0.0,\"#0d0887\"],[0.1111111111111111,\"#46039f\"],[0.2222222222222222,\"#7201a8\"],[0.3333333333333333,\"#9c179e\"],[0.4444444444444444,\"#bd3786\"],[0.5555555555555556,\"#d8576b\"],[0.6666666666666666,\"#ed7953\"],[0.7777777777777778,\"#fb9f3a\"],[0.8888888888888888,\"#fdca26\"],[1.0,\"#f0f921\"]],\"type\":\"surface\"}],\"table\":[{\"cells\":{\"fill\":{\"color\":\"#EBF0F8\"},\"line\":{\"color\":\"white\"}},\"header\":{\"fill\":{\"color\":\"#C8D4E3\"},\"line\":{\"color\":\"white\"}},\"type\":\"table\"}]},\"layout\":{\"annotationdefaults\":{\"arrowcolor\":\"#2a3f5f\",\"arrowhead\":0,\"arrowwidth\":1},\"autotypenumbers\":\"strict\",\"coloraxis\":{\"colorbar\":{\"outlinewidth\":0,\"ticks\":\"\"}},\"colorscale\":{\"diverging\":[[0,\"#8e0152\"],[0.1,\"#c51b7d\"],[0.2,\"#de77ae\"],[0.3,\"#f1b6da\"],[0.4,\"#fde0ef\"],[0.5,\"#f7f7f7\"],[0.6,\"#e6f5d0\"],[0.7,\"#b8e186\"],[0.8,\"#7fbc41\"],[0.9,\"#4d9221\"],[1,\"#276419\"]],\"sequential\":[[0.0,\"#0d0887\"],[0.1111111111111111,\"#46039f\"],[0.2222222222222222,\"#7201a8\"],[0.3333333333333333,\"#9c179e\"],[0.4444444444444444,\"#bd3786\"],[0.5555555555555556,\"#d8576b\"],[0.6666666666666666,\"#ed7953\"],[0.7777777777777778,\"#fb9f3a\"],[0.8888888888888888,\"#fdca26\"],[1.0,\"#f0f921\"]],\"sequentialminus\":[[0.0,\"#0d0887\"],[0.1111111111111111,\"#46039f\"],[0.2222222222222222,\"#7201a8\"],[0.3333333333333333,\"#9c179e\"],[0.4444444444444444,\"#bd3786\"],[0.5555555555555556,\"#d8576b\"],[0.6666666666666666,\"#ed7953\"],[0.7777777777777778,\"#fb9f3a\"],[0.8888888888888888,\"#fdca26\"],[1.0,\"#f0f921\"]]},\"colorway\":[\"#636efa\",\"#EF553B\",\"#00cc96\",\"#ab63fa\",\"#FFA15A\",\"#19d3f3\",\"#FF6692\",\"#B6E880\",\"#FF97FF\",\"#FECB52\"],\"font\":{\"color\":\"#2a3f5f\"},\"geo\":{\"bgcolor\":\"white\",\"lakecolor\":\"white\",\"landcolor\":\"#E5ECF6\",\"showlakes\":true,\"showland\":true,\"subunitcolor\":\"white\"},\"hoverlabel\":{\"align\":\"left\"},\"hovermode\":\"closest\",\"mapbox\":{\"style\":\"light\"},\"paper_bgcolor\":\"white\",\"plot_bgcolor\":\"#E5ECF6\",\"polar\":{\"angularaxis\":{\"gridcolor\":\"white\",\"linecolor\":\"white\",\"ticks\":\"\"},\"bgcolor\":\"#E5ECF6\",\"radialaxis\":{\"gridcolor\":\"white\",\"linecolor\":\"white\",\"ticks\":\"\"}},\"scene\":{\"xaxis\":{\"backgroundcolor\":\"#E5ECF6\",\"gridcolor\":\"white\",\"gridwidth\":2,\"linecolor\":\"white\",\"showbackground\":true,\"ticks\":\"\",\"zerolinecolor\":\"white\"},\"yaxis\":{\"backgroundcolor\":\"#E5ECF6\",\"gridcolor\":\"white\",\"gridwidth\":2,\"linecolor\":\"white\",\"showbackground\":true,\"ticks\":\"\",\"zerolinecolor\":\"white\"},\"zaxis\":{\"backgroundcolor\":\"#E5ECF6\",\"gridcolor\":\"white\",\"gridwidth\":2,\"linecolor\":\"white\",\"showbackground\":true,\"ticks\":\"\",\"zerolinecolor\":\"white\"}},\"shapedefaults\":{\"line\":{\"color\":\"#2a3f5f\"}},\"ternary\":{\"aaxis\":{\"gridcolor\":\"white\",\"linecolor\":\"white\",\"ticks\":\"\"},\"baxis\":{\"gridcolor\":\"white\",\"linecolor\":\"white\",\"ticks\":\"\"},\"bgcolor\":\"#E5ECF6\",\"caxis\":{\"gridcolor\":\"white\",\"linecolor\":\"white\",\"ticks\":\"\"}},\"title\":{\"x\":0.05},\"xaxis\":{\"automargin\":true,\"gridcolor\":\"white\",\"linecolor\":\"white\",\"ticks\":\"\",\"title\":{\"standoff\":15},\"zerolinecolor\":\"white\",\"zerolinewidth\":2},\"yaxis\":{\"automargin\":true,\"gridcolor\":\"white\",\"linecolor\":\"white\",\"ticks\":\"\",\"title\":{\"standoff\":15},\"zerolinecolor\":\"white\",\"zerolinewidth\":2}}},\"xaxis\":{\"anchor\":\"y\",\"domain\":[0.0,1.0],\"title\":{\"text\":\"Percent\"}},\"yaxis\":{\"anchor\":\"x\",\"domain\":[0.0,1.0],\"title\":{\"text\":\"index\"}},\"legend\":{\"tracegroupgap\":0},\"margin\":{\"t\":60},\"barmode\":\"relative\"},                        {\"responsive\": true}                    ).then(function(){\n",
              "                            \n",
              "var gd = document.getElementById('351bdf4d-3a61-47b8-a14c-f94d6228c669');\n",
              "var x = new MutationObserver(function (mutations, observer) {{\n",
              "        var display = window.getComputedStyle(gd).display;\n",
              "        if (!display || display === 'none') {{\n",
              "            console.log([gd, 'removed!']);\n",
              "            Plotly.purge(gd);\n",
              "            observer.disconnect();\n",
              "        }}\n",
              "}});\n",
              "\n",
              "// Listen for the removal of the full notebook cells\n",
              "var notebookContainer = gd.closest('#notebook-container');\n",
              "if (notebookContainer) {{\n",
              "    x.observe(notebookContainer, {childList: true});\n",
              "}}\n",
              "\n",
              "// Listen for the clearing of the current output cell\n",
              "var outputEl = gd.closest('.output');\n",
              "if (outputEl) {{\n",
              "    x.observe(outputEl, {childList: true});\n",
              "}}\n",
              "\n",
              "                        })                };                            </script>        </div>\n",
              "</body>\n",
              "</html>"
            ]
          },
          "metadata": {}
        }
      ],
      "source": [
        "fig = px.bar(ed_level_data,y=ed_level_data.index, x=\"Percent\",hover_data=['Count'])\n",
        "print(loans_data_train.NAME_EDUCATION_TYPE.value_counts())\n",
        "fig.show()"
      ],
      "id": "406d7d06-b21a-4938-8e3d-11798def489b"
    },
    {
      "cell_type": "markdown",
      "metadata": {
        "id": "78e17d30-acce-4b7f-bacc-af488cda3e7d"
      },
      "source": [
        "3- Plot the distribution of ocupation of the loan applicants"
      ],
      "id": "78e17d30-acce-4b7f-bacc-af488cda3e7d"
    },
    {
      "cell_type": "code",
      "execution_count": null,
      "metadata": {
        "id": "OI-fZVrpv1SA"
      },
      "outputs": [],
      "source": [
        "occupation_data = pd.DataFrame(loans_data_train.OCCUPATION_TYPE.value_counts().copy())\n",
        "occupation_data.columns = [\"Count\"]\n",
        "occupation_data[\"Percent\"] = round(occupation_data[\"Count\"]/sum(occupation_data[\"Count\"])*100,2)"
      ],
      "id": "OI-fZVrpv1SA"
    },
    {
      "cell_type": "code",
      "execution_count": null,
      "metadata": {
        "colab": {
          "base_uri": "https://localhost:8080/",
          "height": 542
        },
        "id": "ec101d97-c77b-4e5d-b69f-7c2f8f652d8f",
        "outputId": "9e901176-8a3c-4d21-de77-8c26c63a9835"
      },
      "outputs": [
        {
          "output_type": "display_data",
          "data": {
            "text/html": [
              "<html>\n",
              "<head><meta charset=\"utf-8\" /></head>\n",
              "<body>\n",
              "    <div>            <script src=\"https://cdnjs.cloudflare.com/ajax/libs/mathjax/2.7.5/MathJax.js?config=TeX-AMS-MML_SVG\"></script><script type=\"text/javascript\">if (window.MathJax) {MathJax.Hub.Config({SVG: {font: \"STIX-Web\"}});}</script>                <script type=\"text/javascript\">window.PlotlyConfig = {MathJaxConfig: 'local'};</script>\n",
              "        <script src=\"https://cdn.plot.ly/plotly-2.8.3.min.js\"></script>                <div id=\"8b3692a9-af82-4660-bd34-42f82693e200\" class=\"plotly-graph-div\" style=\"height:525px; width:100%;\"></div>            <script type=\"text/javascript\">                                    window.PLOTLYENV=window.PLOTLYENV || {};                                    if (document.getElementById(\"8b3692a9-af82-4660-bd34-42f82693e200\")) {                    Plotly.newPlot(                        \"8b3692a9-af82-4660-bd34-42f82693e200\",                        [{\"alignmentgroup\":\"True\",\"customdata\":[[55186],[32102],[27570],[21371],[18603],[11380],[9813],[8537],[6721],[5946],[4653],[2652],[2093],[1348],[1305],[751],[563],[526]],\"hovertemplate\":\"Percent=%{x}<br>index=%{y}<br>Count=%{customdata[0]}<extra></extra>\",\"legendgroup\":\"\",\"marker\":{\"color\":\"#636efa\",\"pattern\":{\"shape\":\"\"}},\"name\":\"\",\"offsetgroup\":\"\",\"orientation\":\"h\",\"showlegend\":false,\"textposition\":\"auto\",\"x\":[26.14,15.21,13.06,10.12,8.81,5.39,4.65,4.04,3.18,2.82,2.2,1.26,0.99,0.64,0.62,0.36,0.27,0.25],\"xaxis\":\"x\",\"y\":[\"Laborers\",\"Sales staff\",\"Core staff\",\"Managers\",\"Drivers\",\"High skill tech staff\",\"Accountants\",\"Medicine staff\",\"Security staff\",\"Cooking staff\",\"Cleaning staff\",\"Private service staff\",\"Low-skill Laborers\",\"Waiters/barmen staff\",\"Secretaries\",\"Realty agents\",\"HR staff\",\"IT staff\"],\"yaxis\":\"y\",\"type\":\"bar\"}],                        {\"template\":{\"data\":{\"bar\":[{\"error_x\":{\"color\":\"#2a3f5f\"},\"error_y\":{\"color\":\"#2a3f5f\"},\"marker\":{\"line\":{\"color\":\"#E5ECF6\",\"width\":0.5},\"pattern\":{\"fillmode\":\"overlay\",\"size\":10,\"solidity\":0.2}},\"type\":\"bar\"}],\"barpolar\":[{\"marker\":{\"line\":{\"color\":\"#E5ECF6\",\"width\":0.5},\"pattern\":{\"fillmode\":\"overlay\",\"size\":10,\"solidity\":0.2}},\"type\":\"barpolar\"}],\"carpet\":[{\"aaxis\":{\"endlinecolor\":\"#2a3f5f\",\"gridcolor\":\"white\",\"linecolor\":\"white\",\"minorgridcolor\":\"white\",\"startlinecolor\":\"#2a3f5f\"},\"baxis\":{\"endlinecolor\":\"#2a3f5f\",\"gridcolor\":\"white\",\"linecolor\":\"white\",\"minorgridcolor\":\"white\",\"startlinecolor\":\"#2a3f5f\"},\"type\":\"carpet\"}],\"choropleth\":[{\"colorbar\":{\"outlinewidth\":0,\"ticks\":\"\"},\"type\":\"choropleth\"}],\"contour\":[{\"colorbar\":{\"outlinewidth\":0,\"ticks\":\"\"},\"colorscale\":[[0.0,\"#0d0887\"],[0.1111111111111111,\"#46039f\"],[0.2222222222222222,\"#7201a8\"],[0.3333333333333333,\"#9c179e\"],[0.4444444444444444,\"#bd3786\"],[0.5555555555555556,\"#d8576b\"],[0.6666666666666666,\"#ed7953\"],[0.7777777777777778,\"#fb9f3a\"],[0.8888888888888888,\"#fdca26\"],[1.0,\"#f0f921\"]],\"type\":\"contour\"}],\"contourcarpet\":[{\"colorbar\":{\"outlinewidth\":0,\"ticks\":\"\"},\"type\":\"contourcarpet\"}],\"heatmap\":[{\"colorbar\":{\"outlinewidth\":0,\"ticks\":\"\"},\"colorscale\":[[0.0,\"#0d0887\"],[0.1111111111111111,\"#46039f\"],[0.2222222222222222,\"#7201a8\"],[0.3333333333333333,\"#9c179e\"],[0.4444444444444444,\"#bd3786\"],[0.5555555555555556,\"#d8576b\"],[0.6666666666666666,\"#ed7953\"],[0.7777777777777778,\"#fb9f3a\"],[0.8888888888888888,\"#fdca26\"],[1.0,\"#f0f921\"]],\"type\":\"heatmap\"}],\"heatmapgl\":[{\"colorbar\":{\"outlinewidth\":0,\"ticks\":\"\"},\"colorscale\":[[0.0,\"#0d0887\"],[0.1111111111111111,\"#46039f\"],[0.2222222222222222,\"#7201a8\"],[0.3333333333333333,\"#9c179e\"],[0.4444444444444444,\"#bd3786\"],[0.5555555555555556,\"#d8576b\"],[0.6666666666666666,\"#ed7953\"],[0.7777777777777778,\"#fb9f3a\"],[0.8888888888888888,\"#fdca26\"],[1.0,\"#f0f921\"]],\"type\":\"heatmapgl\"}],\"histogram\":[{\"marker\":{\"pattern\":{\"fillmode\":\"overlay\",\"size\":10,\"solidity\":0.2}},\"type\":\"histogram\"}],\"histogram2d\":[{\"colorbar\":{\"outlinewidth\":0,\"ticks\":\"\"},\"colorscale\":[[0.0,\"#0d0887\"],[0.1111111111111111,\"#46039f\"],[0.2222222222222222,\"#7201a8\"],[0.3333333333333333,\"#9c179e\"],[0.4444444444444444,\"#bd3786\"],[0.5555555555555556,\"#d8576b\"],[0.6666666666666666,\"#ed7953\"],[0.7777777777777778,\"#fb9f3a\"],[0.8888888888888888,\"#fdca26\"],[1.0,\"#f0f921\"]],\"type\":\"histogram2d\"}],\"histogram2dcontour\":[{\"colorbar\":{\"outlinewidth\":0,\"ticks\":\"\"},\"colorscale\":[[0.0,\"#0d0887\"],[0.1111111111111111,\"#46039f\"],[0.2222222222222222,\"#7201a8\"],[0.3333333333333333,\"#9c179e\"],[0.4444444444444444,\"#bd3786\"],[0.5555555555555556,\"#d8576b\"],[0.6666666666666666,\"#ed7953\"],[0.7777777777777778,\"#fb9f3a\"],[0.8888888888888888,\"#fdca26\"],[1.0,\"#f0f921\"]],\"type\":\"histogram2dcontour\"}],\"mesh3d\":[{\"colorbar\":{\"outlinewidth\":0,\"ticks\":\"\"},\"type\":\"mesh3d\"}],\"parcoords\":[{\"line\":{\"colorbar\":{\"outlinewidth\":0,\"ticks\":\"\"}},\"type\":\"parcoords\"}],\"pie\":[{\"automargin\":true,\"type\":\"pie\"}],\"scatter\":[{\"marker\":{\"colorbar\":{\"outlinewidth\":0,\"ticks\":\"\"}},\"type\":\"scatter\"}],\"scatter3d\":[{\"line\":{\"colorbar\":{\"outlinewidth\":0,\"ticks\":\"\"}},\"marker\":{\"colorbar\":{\"outlinewidth\":0,\"ticks\":\"\"}},\"type\":\"scatter3d\"}],\"scattercarpet\":[{\"marker\":{\"colorbar\":{\"outlinewidth\":0,\"ticks\":\"\"}},\"type\":\"scattercarpet\"}],\"scattergeo\":[{\"marker\":{\"colorbar\":{\"outlinewidth\":0,\"ticks\":\"\"}},\"type\":\"scattergeo\"}],\"scattergl\":[{\"marker\":{\"colorbar\":{\"outlinewidth\":0,\"ticks\":\"\"}},\"type\":\"scattergl\"}],\"scattermapbox\":[{\"marker\":{\"colorbar\":{\"outlinewidth\":0,\"ticks\":\"\"}},\"type\":\"scattermapbox\"}],\"scatterpolar\":[{\"marker\":{\"colorbar\":{\"outlinewidth\":0,\"ticks\":\"\"}},\"type\":\"scatterpolar\"}],\"scatterpolargl\":[{\"marker\":{\"colorbar\":{\"outlinewidth\":0,\"ticks\":\"\"}},\"type\":\"scatterpolargl\"}],\"scatterternary\":[{\"marker\":{\"colorbar\":{\"outlinewidth\":0,\"ticks\":\"\"}},\"type\":\"scatterternary\"}],\"surface\":[{\"colorbar\":{\"outlinewidth\":0,\"ticks\":\"\"},\"colorscale\":[[0.0,\"#0d0887\"],[0.1111111111111111,\"#46039f\"],[0.2222222222222222,\"#7201a8\"],[0.3333333333333333,\"#9c179e\"],[0.4444444444444444,\"#bd3786\"],[0.5555555555555556,\"#d8576b\"],[0.6666666666666666,\"#ed7953\"],[0.7777777777777778,\"#fb9f3a\"],[0.8888888888888888,\"#fdca26\"],[1.0,\"#f0f921\"]],\"type\":\"surface\"}],\"table\":[{\"cells\":{\"fill\":{\"color\":\"#EBF0F8\"},\"line\":{\"color\":\"white\"}},\"header\":{\"fill\":{\"color\":\"#C8D4E3\"},\"line\":{\"color\":\"white\"}},\"type\":\"table\"}]},\"layout\":{\"annotationdefaults\":{\"arrowcolor\":\"#2a3f5f\",\"arrowhead\":0,\"arrowwidth\":1},\"autotypenumbers\":\"strict\",\"coloraxis\":{\"colorbar\":{\"outlinewidth\":0,\"ticks\":\"\"}},\"colorscale\":{\"diverging\":[[0,\"#8e0152\"],[0.1,\"#c51b7d\"],[0.2,\"#de77ae\"],[0.3,\"#f1b6da\"],[0.4,\"#fde0ef\"],[0.5,\"#f7f7f7\"],[0.6,\"#e6f5d0\"],[0.7,\"#b8e186\"],[0.8,\"#7fbc41\"],[0.9,\"#4d9221\"],[1,\"#276419\"]],\"sequential\":[[0.0,\"#0d0887\"],[0.1111111111111111,\"#46039f\"],[0.2222222222222222,\"#7201a8\"],[0.3333333333333333,\"#9c179e\"],[0.4444444444444444,\"#bd3786\"],[0.5555555555555556,\"#d8576b\"],[0.6666666666666666,\"#ed7953\"],[0.7777777777777778,\"#fb9f3a\"],[0.8888888888888888,\"#fdca26\"],[1.0,\"#f0f921\"]],\"sequentialminus\":[[0.0,\"#0d0887\"],[0.1111111111111111,\"#46039f\"],[0.2222222222222222,\"#7201a8\"],[0.3333333333333333,\"#9c179e\"],[0.4444444444444444,\"#bd3786\"],[0.5555555555555556,\"#d8576b\"],[0.6666666666666666,\"#ed7953\"],[0.7777777777777778,\"#fb9f3a\"],[0.8888888888888888,\"#fdca26\"],[1.0,\"#f0f921\"]]},\"colorway\":[\"#636efa\",\"#EF553B\",\"#00cc96\",\"#ab63fa\",\"#FFA15A\",\"#19d3f3\",\"#FF6692\",\"#B6E880\",\"#FF97FF\",\"#FECB52\"],\"font\":{\"color\":\"#2a3f5f\"},\"geo\":{\"bgcolor\":\"white\",\"lakecolor\":\"white\",\"landcolor\":\"#E5ECF6\",\"showlakes\":true,\"showland\":true,\"subunitcolor\":\"white\"},\"hoverlabel\":{\"align\":\"left\"},\"hovermode\":\"closest\",\"mapbox\":{\"style\":\"light\"},\"paper_bgcolor\":\"white\",\"plot_bgcolor\":\"#E5ECF6\",\"polar\":{\"angularaxis\":{\"gridcolor\":\"white\",\"linecolor\":\"white\",\"ticks\":\"\"},\"bgcolor\":\"#E5ECF6\",\"radialaxis\":{\"gridcolor\":\"white\",\"linecolor\":\"white\",\"ticks\":\"\"}},\"scene\":{\"xaxis\":{\"backgroundcolor\":\"#E5ECF6\",\"gridcolor\":\"white\",\"gridwidth\":2,\"linecolor\":\"white\",\"showbackground\":true,\"ticks\":\"\",\"zerolinecolor\":\"white\"},\"yaxis\":{\"backgroundcolor\":\"#E5ECF6\",\"gridcolor\":\"white\",\"gridwidth\":2,\"linecolor\":\"white\",\"showbackground\":true,\"ticks\":\"\",\"zerolinecolor\":\"white\"},\"zaxis\":{\"backgroundcolor\":\"#E5ECF6\",\"gridcolor\":\"white\",\"gridwidth\":2,\"linecolor\":\"white\",\"showbackground\":true,\"ticks\":\"\",\"zerolinecolor\":\"white\"}},\"shapedefaults\":{\"line\":{\"color\":\"#2a3f5f\"}},\"ternary\":{\"aaxis\":{\"gridcolor\":\"white\",\"linecolor\":\"white\",\"ticks\":\"\"},\"baxis\":{\"gridcolor\":\"white\",\"linecolor\":\"white\",\"ticks\":\"\"},\"bgcolor\":\"#E5ECF6\",\"caxis\":{\"gridcolor\":\"white\",\"linecolor\":\"white\",\"ticks\":\"\"}},\"title\":{\"x\":0.05},\"xaxis\":{\"automargin\":true,\"gridcolor\":\"white\",\"linecolor\":\"white\",\"ticks\":\"\",\"title\":{\"standoff\":15},\"zerolinecolor\":\"white\",\"zerolinewidth\":2},\"yaxis\":{\"automargin\":true,\"gridcolor\":\"white\",\"linecolor\":\"white\",\"ticks\":\"\",\"title\":{\"standoff\":15},\"zerolinecolor\":\"white\",\"zerolinewidth\":2}}},\"xaxis\":{\"anchor\":\"y\",\"domain\":[0.0,1.0],\"title\":{\"text\":\"Percent\"}},\"yaxis\":{\"anchor\":\"x\",\"domain\":[0.0,1.0],\"title\":{\"text\":\"index\"}},\"legend\":{\"tracegroupgap\":0},\"margin\":{\"t\":60},\"barmode\":\"relative\"},                        {\"responsive\": true}                    ).then(function(){\n",
              "                            \n",
              "var gd = document.getElementById('8b3692a9-af82-4660-bd34-42f82693e200');\n",
              "var x = new MutationObserver(function (mutations, observer) {{\n",
              "        var display = window.getComputedStyle(gd).display;\n",
              "        if (!display || display === 'none') {{\n",
              "            console.log([gd, 'removed!']);\n",
              "            Plotly.purge(gd);\n",
              "            observer.disconnect();\n",
              "        }}\n",
              "}});\n",
              "\n",
              "// Listen for the removal of the full notebook cells\n",
              "var notebookContainer = gd.closest('#notebook-container');\n",
              "if (notebookContainer) {{\n",
              "    x.observe(notebookContainer, {childList: true});\n",
              "}}\n",
              "\n",
              "// Listen for the clearing of the current output cell\n",
              "var outputEl = gd.closest('.output');\n",
              "if (outputEl) {{\n",
              "    x.observe(outputEl, {childList: true});\n",
              "}}\n",
              "\n",
              "                        })                };                            </script>        </div>\n",
              "</body>\n",
              "</html>"
            ]
          },
          "metadata": {}
        }
      ],
      "source": [
        "fig = px.bar(occupation_data,y=occupation_data.index, x=\"Percent\",hover_data=['Count'])\n",
        "fig.show()"
      ],
      "id": "ec101d97-c77b-4e5d-b69f-7c2f8f652d8f"
    },
    {
      "cell_type": "markdown",
      "metadata": {
        "id": "824b1bc0-4dad-4ce8-b574-cbae5984a589"
      },
      "source": [
        "4- Plot the family status of the applicants"
      ],
      "id": "824b1bc0-4dad-4ce8-b574-cbae5984a589"
    },
    {
      "cell_type": "code",
      "execution_count": null,
      "metadata": {
        "id": "95463328-4392-435e-a203-95e28998930b"
      },
      "outputs": [],
      "source": [
        "family_status_data = pd.DataFrame(loans_data_train.NAME_FAMILY_STATUS.value_counts().copy())\n",
        "family_status_data.columns = [\"Count\"]\n",
        "family_status_data[\"Percent\"] = round(family_status_data[\"Count\"]/sum(family_status_data[\"Count\"])*100,2)"
      ],
      "id": "95463328-4392-435e-a203-95e28998930b"
    },
    {
      "cell_type": "code",
      "execution_count": null,
      "metadata": {
        "colab": {
          "base_uri": "https://localhost:8080/",
          "height": 542
        },
        "id": "wxQE6fNfwhfU",
        "outputId": "e9096ad4-6360-478a-87e9-14b8f770983c"
      },
      "outputs": [
        {
          "output_type": "display_data",
          "data": {
            "text/html": [
              "<html>\n",
              "<head><meta charset=\"utf-8\" /></head>\n",
              "<body>\n",
              "    <div>            <script src=\"https://cdnjs.cloudflare.com/ajax/libs/mathjax/2.7.5/MathJax.js?config=TeX-AMS-MML_SVG\"></script><script type=\"text/javascript\">if (window.MathJax) {MathJax.Hub.Config({SVG: {font: \"STIX-Web\"}});}</script>                <script type=\"text/javascript\">window.PlotlyConfig = {MathJaxConfig: 'local'};</script>\n",
              "        <script src=\"https://cdn.plot.ly/plotly-2.8.3.min.js\"></script>                <div id=\"b83efd70-de84-4860-abec-ed33548ecce0\" class=\"plotly-graph-div\" style=\"height:525px; width:100%;\"></div>            <script type=\"text/javascript\">                                    window.PLOTLYENV=window.PLOTLYENV || {};                                    if (document.getElementById(\"b83efd70-de84-4860-abec-ed33548ecce0\")) {                    Plotly.newPlot(                        \"b83efd70-de84-4860-abec-ed33548ecce0\",                        [{\"alignmentgroup\":\"True\",\"customdata\":[[196432],[45444],[29775],[19770],[16088],[2]],\"hovertemplate\":\"Percent=%{x}<br>index=%{y}<br>Count=%{customdata[0]}<extra></extra>\",\"legendgroup\":\"\",\"marker\":{\"color\":\"#636efa\",\"pattern\":{\"shape\":\"\"}},\"name\":\"\",\"offsetgroup\":\"\",\"orientation\":\"h\",\"showlegend\":false,\"textposition\":\"auto\",\"x\":[63.88,14.78,9.68,6.43,5.23,0.0],\"xaxis\":\"x\",\"y\":[\"Married\",\"Single / not married\",\"Civil marriage\",\"Separated\",\"Widow\",\"Unknown\"],\"yaxis\":\"y\",\"type\":\"bar\"}],                        {\"template\":{\"data\":{\"bar\":[{\"error_x\":{\"color\":\"#2a3f5f\"},\"error_y\":{\"color\":\"#2a3f5f\"},\"marker\":{\"line\":{\"color\":\"#E5ECF6\",\"width\":0.5},\"pattern\":{\"fillmode\":\"overlay\",\"size\":10,\"solidity\":0.2}},\"type\":\"bar\"}],\"barpolar\":[{\"marker\":{\"line\":{\"color\":\"#E5ECF6\",\"width\":0.5},\"pattern\":{\"fillmode\":\"overlay\",\"size\":10,\"solidity\":0.2}},\"type\":\"barpolar\"}],\"carpet\":[{\"aaxis\":{\"endlinecolor\":\"#2a3f5f\",\"gridcolor\":\"white\",\"linecolor\":\"white\",\"minorgridcolor\":\"white\",\"startlinecolor\":\"#2a3f5f\"},\"baxis\":{\"endlinecolor\":\"#2a3f5f\",\"gridcolor\":\"white\",\"linecolor\":\"white\",\"minorgridcolor\":\"white\",\"startlinecolor\":\"#2a3f5f\"},\"type\":\"carpet\"}],\"choropleth\":[{\"colorbar\":{\"outlinewidth\":0,\"ticks\":\"\"},\"type\":\"choropleth\"}],\"contour\":[{\"colorbar\":{\"outlinewidth\":0,\"ticks\":\"\"},\"colorscale\":[[0.0,\"#0d0887\"],[0.1111111111111111,\"#46039f\"],[0.2222222222222222,\"#7201a8\"],[0.3333333333333333,\"#9c179e\"],[0.4444444444444444,\"#bd3786\"],[0.5555555555555556,\"#d8576b\"],[0.6666666666666666,\"#ed7953\"],[0.7777777777777778,\"#fb9f3a\"],[0.8888888888888888,\"#fdca26\"],[1.0,\"#f0f921\"]],\"type\":\"contour\"}],\"contourcarpet\":[{\"colorbar\":{\"outlinewidth\":0,\"ticks\":\"\"},\"type\":\"contourcarpet\"}],\"heatmap\":[{\"colorbar\":{\"outlinewidth\":0,\"ticks\":\"\"},\"colorscale\":[[0.0,\"#0d0887\"],[0.1111111111111111,\"#46039f\"],[0.2222222222222222,\"#7201a8\"],[0.3333333333333333,\"#9c179e\"],[0.4444444444444444,\"#bd3786\"],[0.5555555555555556,\"#d8576b\"],[0.6666666666666666,\"#ed7953\"],[0.7777777777777778,\"#fb9f3a\"],[0.8888888888888888,\"#fdca26\"],[1.0,\"#f0f921\"]],\"type\":\"heatmap\"}],\"heatmapgl\":[{\"colorbar\":{\"outlinewidth\":0,\"ticks\":\"\"},\"colorscale\":[[0.0,\"#0d0887\"],[0.1111111111111111,\"#46039f\"],[0.2222222222222222,\"#7201a8\"],[0.3333333333333333,\"#9c179e\"],[0.4444444444444444,\"#bd3786\"],[0.5555555555555556,\"#d8576b\"],[0.6666666666666666,\"#ed7953\"],[0.7777777777777778,\"#fb9f3a\"],[0.8888888888888888,\"#fdca26\"],[1.0,\"#f0f921\"]],\"type\":\"heatmapgl\"}],\"histogram\":[{\"marker\":{\"pattern\":{\"fillmode\":\"overlay\",\"size\":10,\"solidity\":0.2}},\"type\":\"histogram\"}],\"histogram2d\":[{\"colorbar\":{\"outlinewidth\":0,\"ticks\":\"\"},\"colorscale\":[[0.0,\"#0d0887\"],[0.1111111111111111,\"#46039f\"],[0.2222222222222222,\"#7201a8\"],[0.3333333333333333,\"#9c179e\"],[0.4444444444444444,\"#bd3786\"],[0.5555555555555556,\"#d8576b\"],[0.6666666666666666,\"#ed7953\"],[0.7777777777777778,\"#fb9f3a\"],[0.8888888888888888,\"#fdca26\"],[1.0,\"#f0f921\"]],\"type\":\"histogram2d\"}],\"histogram2dcontour\":[{\"colorbar\":{\"outlinewidth\":0,\"ticks\":\"\"},\"colorscale\":[[0.0,\"#0d0887\"],[0.1111111111111111,\"#46039f\"],[0.2222222222222222,\"#7201a8\"],[0.3333333333333333,\"#9c179e\"],[0.4444444444444444,\"#bd3786\"],[0.5555555555555556,\"#d8576b\"],[0.6666666666666666,\"#ed7953\"],[0.7777777777777778,\"#fb9f3a\"],[0.8888888888888888,\"#fdca26\"],[1.0,\"#f0f921\"]],\"type\":\"histogram2dcontour\"}],\"mesh3d\":[{\"colorbar\":{\"outlinewidth\":0,\"ticks\":\"\"},\"type\":\"mesh3d\"}],\"parcoords\":[{\"line\":{\"colorbar\":{\"outlinewidth\":0,\"ticks\":\"\"}},\"type\":\"parcoords\"}],\"pie\":[{\"automargin\":true,\"type\":\"pie\"}],\"scatter\":[{\"marker\":{\"colorbar\":{\"outlinewidth\":0,\"ticks\":\"\"}},\"type\":\"scatter\"}],\"scatter3d\":[{\"line\":{\"colorbar\":{\"outlinewidth\":0,\"ticks\":\"\"}},\"marker\":{\"colorbar\":{\"outlinewidth\":0,\"ticks\":\"\"}},\"type\":\"scatter3d\"}],\"scattercarpet\":[{\"marker\":{\"colorbar\":{\"outlinewidth\":0,\"ticks\":\"\"}},\"type\":\"scattercarpet\"}],\"scattergeo\":[{\"marker\":{\"colorbar\":{\"outlinewidth\":0,\"ticks\":\"\"}},\"type\":\"scattergeo\"}],\"scattergl\":[{\"marker\":{\"colorbar\":{\"outlinewidth\":0,\"ticks\":\"\"}},\"type\":\"scattergl\"}],\"scattermapbox\":[{\"marker\":{\"colorbar\":{\"outlinewidth\":0,\"ticks\":\"\"}},\"type\":\"scattermapbox\"}],\"scatterpolar\":[{\"marker\":{\"colorbar\":{\"outlinewidth\":0,\"ticks\":\"\"}},\"type\":\"scatterpolar\"}],\"scatterpolargl\":[{\"marker\":{\"colorbar\":{\"outlinewidth\":0,\"ticks\":\"\"}},\"type\":\"scatterpolargl\"}],\"scatterternary\":[{\"marker\":{\"colorbar\":{\"outlinewidth\":0,\"ticks\":\"\"}},\"type\":\"scatterternary\"}],\"surface\":[{\"colorbar\":{\"outlinewidth\":0,\"ticks\":\"\"},\"colorscale\":[[0.0,\"#0d0887\"],[0.1111111111111111,\"#46039f\"],[0.2222222222222222,\"#7201a8\"],[0.3333333333333333,\"#9c179e\"],[0.4444444444444444,\"#bd3786\"],[0.5555555555555556,\"#d8576b\"],[0.6666666666666666,\"#ed7953\"],[0.7777777777777778,\"#fb9f3a\"],[0.8888888888888888,\"#fdca26\"],[1.0,\"#f0f921\"]],\"type\":\"surface\"}],\"table\":[{\"cells\":{\"fill\":{\"color\":\"#EBF0F8\"},\"line\":{\"color\":\"white\"}},\"header\":{\"fill\":{\"color\":\"#C8D4E3\"},\"line\":{\"color\":\"white\"}},\"type\":\"table\"}]},\"layout\":{\"annotationdefaults\":{\"arrowcolor\":\"#2a3f5f\",\"arrowhead\":0,\"arrowwidth\":1},\"autotypenumbers\":\"strict\",\"coloraxis\":{\"colorbar\":{\"outlinewidth\":0,\"ticks\":\"\"}},\"colorscale\":{\"diverging\":[[0,\"#8e0152\"],[0.1,\"#c51b7d\"],[0.2,\"#de77ae\"],[0.3,\"#f1b6da\"],[0.4,\"#fde0ef\"],[0.5,\"#f7f7f7\"],[0.6,\"#e6f5d0\"],[0.7,\"#b8e186\"],[0.8,\"#7fbc41\"],[0.9,\"#4d9221\"],[1,\"#276419\"]],\"sequential\":[[0.0,\"#0d0887\"],[0.1111111111111111,\"#46039f\"],[0.2222222222222222,\"#7201a8\"],[0.3333333333333333,\"#9c179e\"],[0.4444444444444444,\"#bd3786\"],[0.5555555555555556,\"#d8576b\"],[0.6666666666666666,\"#ed7953\"],[0.7777777777777778,\"#fb9f3a\"],[0.8888888888888888,\"#fdca26\"],[1.0,\"#f0f921\"]],\"sequentialminus\":[[0.0,\"#0d0887\"],[0.1111111111111111,\"#46039f\"],[0.2222222222222222,\"#7201a8\"],[0.3333333333333333,\"#9c179e\"],[0.4444444444444444,\"#bd3786\"],[0.5555555555555556,\"#d8576b\"],[0.6666666666666666,\"#ed7953\"],[0.7777777777777778,\"#fb9f3a\"],[0.8888888888888888,\"#fdca26\"],[1.0,\"#f0f921\"]]},\"colorway\":[\"#636efa\",\"#EF553B\",\"#00cc96\",\"#ab63fa\",\"#FFA15A\",\"#19d3f3\",\"#FF6692\",\"#B6E880\",\"#FF97FF\",\"#FECB52\"],\"font\":{\"color\":\"#2a3f5f\"},\"geo\":{\"bgcolor\":\"white\",\"lakecolor\":\"white\",\"landcolor\":\"#E5ECF6\",\"showlakes\":true,\"showland\":true,\"subunitcolor\":\"white\"},\"hoverlabel\":{\"align\":\"left\"},\"hovermode\":\"closest\",\"mapbox\":{\"style\":\"light\"},\"paper_bgcolor\":\"white\",\"plot_bgcolor\":\"#E5ECF6\",\"polar\":{\"angularaxis\":{\"gridcolor\":\"white\",\"linecolor\":\"white\",\"ticks\":\"\"},\"bgcolor\":\"#E5ECF6\",\"radialaxis\":{\"gridcolor\":\"white\",\"linecolor\":\"white\",\"ticks\":\"\"}},\"scene\":{\"xaxis\":{\"backgroundcolor\":\"#E5ECF6\",\"gridcolor\":\"white\",\"gridwidth\":2,\"linecolor\":\"white\",\"showbackground\":true,\"ticks\":\"\",\"zerolinecolor\":\"white\"},\"yaxis\":{\"backgroundcolor\":\"#E5ECF6\",\"gridcolor\":\"white\",\"gridwidth\":2,\"linecolor\":\"white\",\"showbackground\":true,\"ticks\":\"\",\"zerolinecolor\":\"white\"},\"zaxis\":{\"backgroundcolor\":\"#E5ECF6\",\"gridcolor\":\"white\",\"gridwidth\":2,\"linecolor\":\"white\",\"showbackground\":true,\"ticks\":\"\",\"zerolinecolor\":\"white\"}},\"shapedefaults\":{\"line\":{\"color\":\"#2a3f5f\"}},\"ternary\":{\"aaxis\":{\"gridcolor\":\"white\",\"linecolor\":\"white\",\"ticks\":\"\"},\"baxis\":{\"gridcolor\":\"white\",\"linecolor\":\"white\",\"ticks\":\"\"},\"bgcolor\":\"#E5ECF6\",\"caxis\":{\"gridcolor\":\"white\",\"linecolor\":\"white\",\"ticks\":\"\"}},\"title\":{\"x\":0.05},\"xaxis\":{\"automargin\":true,\"gridcolor\":\"white\",\"linecolor\":\"white\",\"ticks\":\"\",\"title\":{\"standoff\":15},\"zerolinecolor\":\"white\",\"zerolinewidth\":2},\"yaxis\":{\"automargin\":true,\"gridcolor\":\"white\",\"linecolor\":\"white\",\"ticks\":\"\",\"title\":{\"standoff\":15},\"zerolinecolor\":\"white\",\"zerolinewidth\":2}}},\"xaxis\":{\"anchor\":\"y\",\"domain\":[0.0,1.0],\"title\":{\"text\":\"Percent\"}},\"yaxis\":{\"anchor\":\"x\",\"domain\":[0.0,1.0],\"title\":{\"text\":\"index\"}},\"legend\":{\"tracegroupgap\":0},\"margin\":{\"t\":60},\"barmode\":\"relative\"},                        {\"responsive\": true}                    ).then(function(){\n",
              "                            \n",
              "var gd = document.getElementById('b83efd70-de84-4860-abec-ed33548ecce0');\n",
              "var x = new MutationObserver(function (mutations, observer) {{\n",
              "        var display = window.getComputedStyle(gd).display;\n",
              "        if (!display || display === 'none') {{\n",
              "            console.log([gd, 'removed!']);\n",
              "            Plotly.purge(gd);\n",
              "            observer.disconnect();\n",
              "        }}\n",
              "}});\n",
              "\n",
              "// Listen for the removal of the full notebook cells\n",
              "var notebookContainer = gd.closest('#notebook-container');\n",
              "if (notebookContainer) {{\n",
              "    x.observe(notebookContainer, {childList: true});\n",
              "}}\n",
              "\n",
              "// Listen for the clearing of the current output cell\n",
              "var outputEl = gd.closest('.output');\n",
              "if (outputEl) {{\n",
              "    x.observe(outputEl, {childList: true});\n",
              "}}\n",
              "\n",
              "                        })                };                            </script>        </div>\n",
              "</body>\n",
              "</html>"
            ]
          },
          "metadata": {}
        }
      ],
      "source": [
        "fig = px.bar(family_status_data,y=family_status_data.index, x=\"Percent\",hover_data=['Count'])\n",
        "fig.show()"
      ],
      "id": "wxQE6fNfwhfU"
    },
    {
      "cell_type": "markdown",
      "metadata": {
        "id": "efa77db6-a50a-454e-b1b2-83abe3c8baae"
      },
      "source": [
        "5- Plot the income type of applicants grouped by the target variable"
      ],
      "id": "efa77db6-a50a-454e-b1b2-83abe3c8baae"
    },
    {
      "cell_type": "code",
      "execution_count": null,
      "metadata": {
        "colab": {
          "base_uri": "https://localhost:8080/",
          "height": 285
        },
        "id": "f22c3267-56c8-45fc-9184-b822cd026571",
        "outputId": "d17a33ac-e3fe-4e41-ca52-964b57cdeafd"
      },
      "outputs": [
        {
          "output_type": "display_data",
          "data": {
            "text/plain": [
              "<Figure size 432x288 with 1 Axes>"
            ],
            "image/png": "[encoded data removed]"
          },
          "metadata": {}
        }
      ],
      "source": [
        "ax = sns.histplot(loans_data_train,\n",
        "             y=\"NAME_INCOME_TYPE\",\n",
        "             hue=\"TARGET\",\n",
        "             stat=\"percent\", \n",
        "             multiple=\"dodge\"\n",
        "             ).legend(['1', '0'], loc='lower right', title='Target')\n",
        "plt.show()"
      ],
      "id": "f22c3267-56c8-45fc-9184-b822cd026571"
    },
    {
      "cell_type": "markdown",
      "metadata": {
        "id": "675b1ae3-c943-4737-bdb8-2ecff733b27b"
      },
      "source": [
        "## Preprocessing"
      ],
      "id": "675b1ae3-c943-4737-bdb8-2ecff733b27b"
    },
    {
      "cell_type": "markdown",
      "metadata": {
        "id": "51397c38-0204-454b-8fe6-011dc8c38418"
      },
      "source": [
        "In this section, you will code a function to make all the data pre processing for the dataset. What you have to deliver is a function that takes the train and test dataframes, processes all features, and returns the transformed data as numpy arrays ready to be used for training."
      ],
      "id": "51397c38-0204-454b-8fe6-011dc8c38418"
    },
    {
      "cell_type": "markdown",
      "metadata": {
        "id": "b72d36eb-3ae5-40b3-b9d2-48f6abdeb734"
      },
      "source": [
        "The function should perform these activities:\n",
        "\n",
        "- Correct outliers/anomalous values in numerical columns (hint: take a look at the DAYS_EMPLOYED column)\n",
        "- Impute values for all columns with missing data (use median as imputing value)\n",
        "- Encode categorical features:\n",
        "    - If feature has 2 categories encode using binary encoding\n",
        "    - More than 2 categories, use one hot encoding \n",
        "- Feature scaling\n",
        "\n",
        "Keep in mind that you could get different number of columns in train and test because some category could only be present in one of the dataframes, this could create more one hot encoded columns. You should align train and test to have the same number of columns"
      ],
      "id": "b72d36eb-3ae5-40b3-b9d2-48f6abdeb734"
    },
    {
      "cell_type": "code",
      "execution_count": null,
      "metadata": {
        "id": "-9ClT7yQJ4k0"
      },
      "outputs": [],
      "source": [
        "loans_data_train = pd.read_csv(\"home-credit-default-risk/application_train.csv\")\n",
        "loans_data_test = pd.read_csv(\"home-credit-default-risk/application_test.csv\")"
      ],
      "id": "-9ClT7yQJ4k0"
    },
    {
      "cell_type": "code",
      "source": [
        "def pre_processing(X_trn, X_tst):\n",
        "  '''\n",
        "  It makes all the data preprocessing for the dataset and returns \n",
        "  the transformed data as numpy arrays ready to be used for training.\n",
        "  '''\n",
        "\n",
        "  #First, the function separates the numerical columns from the categorical ones\n",
        "  '''\n",
        "  In this first step, I let out the target and id column because they are not going to be preprocessed.\n",
        "  '''\n",
        "  categorical_features = loans_data_train.select_dtypes(include=\"object\").columns\n",
        "  numeric_features = loans_data_train.select_dtypes(include=[\"int64\",\"float64\"]).columns.drop([\"TARGET\",\"SK_ID_CURR\"])\n",
        "\n",
        "  #Imputes values for all columns with missing data \n",
        "  '''\n",
        "  In this step, the function makes sure that there aren't any missing values by filing them with median or mode\n",
        "  '''\n",
        "  imput_num = SimpleImputer(strategy='median')\n",
        "  imput_num.fit(X_trn[numeric_features])\n",
        "  X_trn[numeric_features] = imput_num.transform(X_trn[numeric_features])\n",
        "  X_tst[numeric_features] = imput_num.transform(X_tst[numeric_features])\n",
        "\n",
        "  imput_num = SimpleImputer(strategy='most_frequent')\n",
        "  imput_num.fit(X_trn[categorical_features])\n",
        "  X_trn[categorical_features] = imput_num.transform(X_trn[categorical_features])\n",
        "  X_tst[categorical_features] = imput_num.transform(X_tst[categorical_features])\n",
        "\n",
        "  #Corrects outliers/anomalous values in numerical columns\n",
        "  '''\n",
        "  I decided to change the positives outliers on days employed to 0 and added a column with 1 in every position that didn't have those values \n",
        "  due to the fact that those rows meant unemployed people and I didn't want to lose that information. New column --> FLAG_EMPLOYED\n",
        "  I also drop a massive outlier in AMT_INCOME_TOTAL.\n",
        "  '''\n",
        "  unemployed_list_train = X_trn.loc[X_trn[\"DAYS_EMPLOYED\"]>=0].index\n",
        "  unemployed_list_test = X_tst.loc[X_tst[\"DAYS_EMPLOYED\"]>=0].index\n",
        "  X_trn[\"FLAG_EMPLOYED\"] = 1\n",
        "  X_tst[\"FLAG_EMPLOYED\"] = 1\n",
        "  X_trn.loc[unemployed_list_train, [\"FLAG_EMPLOYED\"]] = 0 \n",
        "  X_tst.loc[unemployed_list_test, [\"FLAG_EMPLOYED\"]] = 0 \n",
        "  X_trn.loc[X_trn[\"DAYS_EMPLOYED\"]>=0, [\"DAYS_EMPLOYED\"]] = 0\n",
        "  X_tst.loc[X_tst[\"DAYS_EMPLOYED\"]>=0, [\"DAYS_EMPLOYED\"]] = 0\n",
        "\n",
        "  X_trn = X_trn.loc[X_trn[\"AMT_INCOME_TOTAL\"]<=9_000_000]\n",
        "\n",
        "  #Encodes categorical features and does the feature scaling\n",
        "  '''\n",
        "  Here the function does an encoding of the categorical features, scales the numeric columns, and gives the dataframe a numpy format\n",
        "  '''\n",
        "  X_train =  X_trn.drop(columns=[\"TARGET\",\"SK_ID_CURR\"])\n",
        "  X_tst = X_tst.drop(columns=[\"SK_ID_CURR\"])\n",
        "  y_train = X_trn[\"TARGET\"]\n",
        "\n",
        "  preprocessor = ColumnTransformer(transformers=[(\"num\",QuantileTransformer(), selector(dtype_include=np.number)),\n",
        "                                                 (\"cat\", OneHotEncoder(handle_unknown='ignore', drop=\"if_binary\"), selector(dtype_include=object))], remainder=\"passthrough\")\n",
        "  \n",
        "  X_train = preprocessor.fit_transform(X_train)\n",
        "  X_tst = preprocessor.transform(X_tst)\n",
        "  X_trn = np.concatenate([X_train, y_train.to_numpy().reshape(-1,1)], axis=1)\n",
        "\n",
        "  return X_trn, X_tst"
      ],
      "metadata": {
        "id": "73Gvpi50GXhz"
      },
      "id": "73Gvpi50GXhz",
      "execution_count": null,
      "outputs": []
    },
    {
      "cell_type": "code",
      "source": [
        "X_train, X_test = pre_processing(X_trn=loans_data_train, X_tst=loans_data_test)"
      ],
      "metadata": {
        "id": "LOed_26dJCvj"
      },
      "id": "LOed_26dJCvj",
      "execution_count": null,
      "outputs": []
    },
    {
      "cell_type": "code",
      "execution_count": null,
      "metadata": {
        "colab": {
          "base_uri": "https://localhost:8080/"
        },
        "id": "WshkSD23b1Cf",
        "outputId": "54e03c89-ef06-4e98-e85e-282aa9d62236"
      },
      "outputs": [
        {
          "output_type": "execute_result",
          "data": {
            "text/plain": [
              "array([[0.        , 0.73873874, 0.38697278, ..., 0.        , 0.        ,\n",
              "        1.        ],\n",
              "       [0.        , 0.89239239, 0.93593594, ..., 0.        , 0.        ,\n",
              "        0.        ],\n",
              "       [0.        , 0.05155155, 0.04454454, ..., 0.        , 0.        ,\n",
              "        0.        ],\n",
              "       ...,\n",
              "       [0.        , 0.50550551, 0.66166166, ..., 0.        , 0.        ,\n",
              "        0.        ],\n",
              "       [0.        , 0.61011011, 0.36247563, ..., 0.        , 0.        ,\n",
              "        1.        ],\n",
              "       [0.        , 0.54954955, 0.64664665, ..., 0.        , 0.        ,\n",
              "        0.        ]])"
            ]
          },
          "metadata": {},
          "execution_count": 36
        }
      ],
      "source": [
        "X_train"
      ],
      "id": "WshkSD23b1Cf"
    },
    {
      "cell_type": "code",
      "source": [
        "X_train.shape"
      ],
      "metadata": {
        "colab": {
          "base_uri": "https://localhost:8080/"
        },
        "id": "pEB1ooy9TAw6",
        "outputId": "aeb4f985-2bbc-4310-f08c-dccfd1f9c54a"
      },
      "id": "pEB1ooy9TAw6",
      "execution_count": null,
      "outputs": [
        {
          "output_type": "execute_result",
          "data": {
            "text/plain": [
              "(307508, 242)"
            ]
          },
          "metadata": {},
          "execution_count": 39
        }
      ]
    },
    {
      "cell_type": "markdown",
      "metadata": {
        "id": "2f5df1e8-1f03-4f14-9dbd-292d3b84859d"
      },
      "source": [
        "## Training Models"
      ],
      "id": "2f5df1e8-1f03-4f14-9dbd-292d3b84859d"
    },
    {
      "cell_type": "markdown",
      "metadata": {
        "id": "83062f02-7157-4083-b57b-78fbc95fe39b"
      },
      "source": [
        "As usual, you will start training simple models and will progressively move to more complex models and pipelines."
      ],
      "id": "83062f02-7157-4083-b57b-78fbc95fe39b"
    },
    {
      "cell_type": "markdown",
      "metadata": {
        "id": "7e99a786-a17e-4caa-9ac7-48fced40fa71"
      },
      "source": [
        "### Baseline: LogisticRegression"
      ],
      "id": "7e99a786-a17e-4caa-9ac7-48fced40fa71"
    },
    {
      "cell_type": "markdown",
      "metadata": {
        "id": "91e10796-6d86-4fce-8738-4b9c4fbbf359"
      },
      "source": [
        "1- Import LogisticRegression from sklearn and train a model using the preprocesed train data from the previous section, and just default parameters. If you receive a warning because the algorithm failed to converge, try increasing the number of iterations or decreasing the C parameter "
      ],
      "id": "91e10796-6d86-4fce-8738-4b9c4fbbf359"
    },
    {
      "cell_type": "code",
      "execution_count": null,
      "metadata": {
        "id": "e1285054-4ea6-4bdb-9477-e774fc3d04c5"
      },
      "outputs": [],
      "source": [
        "baseline_model = LogisticRegression(max_iter=2000)"
      ],
      "id": "e1285054-4ea6-4bdb-9477-e774fc3d04c5"
    },
    {
      "cell_type": "code",
      "execution_count": null,
      "metadata": {
        "colab": {
          "base_uri": "https://localhost:8080/"
        },
        "id": "exQNl7lYawZU",
        "outputId": "fa098f09-580c-42b0-8db8-fd43c5594430"
      },
      "outputs": [
        {
          "output_type": "execute_result",
          "data": {
            "text/plain": [
              "LogisticRegression(max_iter=2000)"
            ]
          },
          "metadata": {},
          "execution_count": 44
        }
      ],
      "source": [
        "baseline_model.fit(X_train[:,:-1], X_train[:,-1])"
      ],
      "id": "exQNl7lYawZU"
    },
    {
      "cell_type": "markdown",
      "metadata": {
        "id": "018d5c7e-012f-47cc-8bfc-0332de907ae9"
      },
      "source": [
        "2- Use the trained model to predict probabilites for the test data, and then save the results to a csv in the format expected in the competition: a SK_ID_CURR column and a TARGET column with probabilities. REMEMBER: the TARGET columns should ONLY contain the probabilities that the debt is not repaid (equivalent to the class 1)."
      ],
      "id": "018d5c7e-012f-47cc-8bfc-0332de907ae9"
    },
    {
      "cell_type": "code",
      "execution_count": null,
      "metadata": {
        "id": "798ae69b-1fe2-458d-9de7-3e1ed70b9b02"
      },
      "outputs": [],
      "source": [
        "resp = baseline_model.predict_proba(X_test)"
      ],
      "id": "798ae69b-1fe2-458d-9de7-3e1ed70b9b02"
    },
    {
      "cell_type": "code",
      "execution_count": null,
      "metadata": {
        "id": "Zjylol07ejQL"
      },
      "outputs": [],
      "source": [
        "loans_data_test[\"TARGET\"] = resp[:,1]"
      ],
      "id": "Zjylol07ejQL"
    },
    {
      "cell_type": "code",
      "execution_count": null,
      "metadata": {
        "id": "BeMNmheResOi"
      },
      "outputs": [],
      "source": [
        "resp = loans_data_test[[\"SK_ID_CURR\",\"TARGET\"]]\n",
        "resp.to_csv(\"Baseline_model.csv\", index = False)"
      ],
      "id": "BeMNmheResOi"
    },
    {
      "cell_type": "code",
      "execution_count": null,
      "metadata": {
        "id": "TmAzokrWFHOH"
      },
      "outputs": [],
      "source": [
        "loans_data_test.drop(columns = [\"TARGET\"], inplace=True)"
      ],
      "id": "TmAzokrWFHOH"
    },
    {
      "cell_type": "markdown",
      "metadata": {
        "id": "b0826305-4900-4ba1-bf25-48205be980c6"
      },
      "source": [
        "3- Go to the Kaggle competition, and in the [submissions page](https://www.kaggle.com/competitions/home-credit-default-risk/submit) load your csv file. Report here the result in the private score you obtained."
      ],
      "id": "b0826305-4900-4ba1-bf25-48205be980c6"
    },
    {
      "cell_type": "code",
      "execution_count": null,
      "metadata": {
        "colab": {
          "base_uri": "https://localhost:8080/"
        },
        "id": "oDL8qlGxlGgd",
        "outputId": "05cd12c8-679e-4f07-eca0-b2a5e407a054"
      },
      "outputs": [
        {
          "output_type": "stream",
          "name": "stdout",
          "text": [
            "Successfully submitted to Home Credit Default Risk"
          ]
        }
      ],
      "source": [
        "!kaggle competitions submit -c home-credit-default-risk -f Baseline_model.csv -m \"\" -q"
      ],
      "id": "oDL8qlGxlGgd"
    },
    {
      "cell_type": "code",
      "execution_count": null,
      "metadata": {
        "colab": {
          "base_uri": "https://localhost:8080/"
        },
        "id": "m2k3VL9smRQn",
        "outputId": "85eb98c3-f21c-4b46-b250-d837f0ef676c"
      },
      "outputs": [
        {
          "output_type": "stream",
          "name": "stdout",
          "text": [
            "             fileName    status  privateScore\n",
            "0  Baseline_model.csv  complete        0.7303\n"
          ]
        }
      ],
      "source": [
        "!kaggle competitions submissions -v home-credit-default-risk > SomeFile.csv\n",
        "re = pd.read_csv(\"SomeFile.csv\")\n",
        "print(re.loc[re.fileName ==\"Baseline_model.csv\"][[\"fileName\",\"status\",\"privateScore\"]])\n",
        "del re"
      ],
      "id": "m2k3VL9smRQn"
    },
    {
      "cell_type": "markdown",
      "metadata": {
        "id": "4d889582-0c21-4789-acac-4d58f8eb74d9"
      },
      "source": [
        "At this point, the model should produce a result around 0.67 "
      ],
      "id": "4d889582-0c21-4789-acac-4d58f8eb74d9"
    },
    {
      "cell_type": "markdown",
      "metadata": {
        "id": "8f8300cc-d8be-4303-9042-757cb9e15d3e"
      },
      "source": [
        "### Training a Random Forest Classifier "
      ],
      "id": "8f8300cc-d8be-4303-9042-757cb9e15d3e"
    },
    {
      "cell_type": "markdown",
      "metadata": {
        "id": "05280b49-11af-4fe6-9236-95f31fb5e0d5"
      },
      "source": [
        "You're gonna start working in more complex models: ensambles, particularly, you're going to use the Random Forest Classifier from Scikit Learn. "
      ],
      "id": "05280b49-11af-4fe6-9236-95f31fb5e0d5"
    },
    {
      "cell_type": "markdown",
      "metadata": {
        "id": "0efdfd67-ec68-49b3-8727-7ab9784b5e54"
      },
      "source": [
        "1- Train a RandomForestClassifier, print the time taken by the fit function. Just use default hyperparameters, except for n_jobs, which should be set to \"-1\" to allow the library to use all CPU cores to speed up training time."
      ],
      "id": "0efdfd67-ec68-49b3-8727-7ab9784b5e54"
    },
    {
      "cell_type": "code",
      "execution_count": null,
      "metadata": {
        "id": "lLnk4FVGrV-s"
      },
      "outputs": [],
      "source": [
        "RF_model_dfl = RandomForestClassifier(n_jobs=-1, random_state=8)"
      ],
      "id": "lLnk4FVGrV-s"
    },
    {
      "cell_type": "code",
      "execution_count": null,
      "metadata": {
        "colab": {
          "base_uri": "https://localhost:8080/"
        },
        "id": "1d3b9ea6-4bf9-42f0-aed1-1c0f3a4f9b39",
        "outputId": "188aa145-1652-4be6-ec73-7d102578ce66"
      },
      "outputs": [
        {
          "output_type": "stream",
          "name": "stdout",
          "text": [
            "0:03:11.429674\n"
          ]
        }
      ],
      "source": [
        "start_time = datetime.now()\n",
        "RF_model_dfl.fit(X_train[:,:-1], X_train[:,-1])\n",
        "end_time = datetime.now()\n",
        "time = end_time-start_time\n",
        "print(time)"
      ],
      "id": "1d3b9ea6-4bf9-42f0-aed1-1c0f3a4f9b39"
    },
    {
      "cell_type": "markdown",
      "metadata": {
        "id": "3b12a0a5-8ff1-4cb6-9928-37122d2a3435"
      },
      "source": [
        "2- Use the classifier to predict probabilities on the test set, and save the results to a csv file."
      ],
      "id": "3b12a0a5-8ff1-4cb6-9928-37122d2a3435"
    },
    {
      "cell_type": "code",
      "execution_count": null,
      "metadata": {
        "colab": {
          "base_uri": "https://localhost:8080/"
        },
        "id": "4ba80108-858c-4d4e-ba19-7f19fa526dc9",
        "outputId": "73a311c0-c725-4566-d35b-c85ec0e5af15"
      },
      "outputs": [
        {
          "output_type": "execute_result",
          "data": {
            "text/plain": [
              "array([0.05, 0.13, 0.06, ..., 0.04, 0.11, 0.14])"
            ]
          },
          "metadata": {},
          "execution_count": 53
        }
      ],
      "source": [
        "pred = RF_model_dfl.predict_proba(X_test)\n",
        "pred[:,1]"
      ],
      "id": "4ba80108-858c-4d4e-ba19-7f19fa526dc9"
    },
    {
      "cell_type": "markdown",
      "metadata": {
        "id": "40be1079-e800-42b1-96b0-dce1d04c0a86"
      },
      "source": [
        "3- Load the predictions to the competition. Report the private score here."
      ],
      "id": "40be1079-e800-42b1-96b0-dce1d04c0a86"
    },
    {
      "cell_type": "code",
      "execution_count": null,
      "metadata": {
        "id": "66f1180a-a26e-4e67-bcee-2a59bece5271"
      },
      "outputs": [],
      "source": [
        "loans_data_test[\"TARGET\"] = pred[:,1]\n",
        "resp = loans_data_test[[\"SK_ID_CURR\",\"TARGET\"]]\n",
        "resp.to_csv(\"Random_forest_model.csv\", index = False)\n",
        "loans_data_test.drop(columns = [\"TARGET\"], inplace=True)"
      ],
      "id": "66f1180a-a26e-4e67-bcee-2a59bece5271"
    },
    {
      "cell_type": "code",
      "execution_count": null,
      "metadata": {
        "colab": {
          "base_uri": "https://localhost:8080/"
        },
        "id": "FB80BW45twub",
        "outputId": "a952b32e-f1d7-4629-c72c-d8027b36de33"
      },
      "outputs": [
        {
          "output_type": "stream",
          "name": "stdout",
          "text": [
            "Successfully submitted to Home Credit Default Risk"
          ]
        }
      ],
      "source": [
        "!kaggle competitions submit -c home-credit-default-risk -f Random_forest_model.csv -m \"\" -q"
      ],
      "id": "FB80BW45twub"
    },
    {
      "cell_type": "code",
      "execution_count": null,
      "metadata": {
        "colab": {
          "base_uri": "https://localhost:8080/"
        },
        "id": "GIHvH9f0tzCu",
        "outputId": "32404326-b41a-476f-fbec-748c143ee23c"
      },
      "outputs": [
        {
          "output_type": "stream",
          "name": "stdout",
          "text": [
            "                  fileName    status  privateScore\n",
            "0  Random_forest_model.csv  complete       0.69127\n"
          ]
        }
      ],
      "source": [
        "!kaggle competitions submissions -v home-credit-default-risk > SomeFile.csv\n",
        "re = pd.read_csv(\"SomeFile.csv\")\n",
        "print(re.loc[re.fileName ==\"Random_forest_model.csv\"][[\"fileName\",\"status\",\"privateScore\"]])\n",
        "del re"
      ],
      "id": "GIHvH9f0tzCu"
    },
    {
      "cell_type": "markdown",
      "metadata": {
        "id": "4acfcc24-62b6-4118-9c42-a0268dcf5c53"
      },
      "source": [
        "### Randomized Search with Cross Validation"
      ],
      "id": "4acfcc24-62b6-4118-9c42-a0268dcf5c53"
    },
    {
      "cell_type": "markdown",
      "metadata": {
        "id": "dd634b2b-68af-4db1-b062-1496f8d1179e"
      },
      "source": [
        "So far, we've only created models using the default hyperparameters of each algorithm. This is usually something that we would only do for baseline models, hyperparameter tuning is a very important part of the modeling process and is often the difference between having an acceptable model or not.\n",
        "\n",
        "But, there are usually lots of hyperparameters to tune and a finite amount of time to do it, you have to consider the time and resources it takes to find an optimal combination of them. In the previous section you trained a random forest classifier and saw how much it took to train it once in your PC. If you want to do hyperparameter optimization you now have to consider that you will have to train the algorithm N number of times, with N being the cartesian product of all parameters. \n",
        "\n",
        "Furthermore, you can't validate the performance of your trained models on the test set, as this data should only be used to validate the final model. So we have to implement a validation strategy, K-Fold Cross Validation being the most common. But this also adds time complexity to our training, because we will have to train each combinations of hyperparameters M number of times, X being the number of folds in which we divided our dataset, so the total number of training iterations will be NxM... this resulting number can grow VERY quickly.\n",
        "\n",
        "Fortunately there are strategies to mitigate this, here you're going to select a small number of hyperparameters to test a RandomForestClassifier, and use a Randomized Search algorithm with K-Fold Cross Validation to avoid doing a full search across the grid. \n",
        "\n",
        "Remember: take in consideration how much time it took to train a single classifier, and define the number of cross validations folds and iterations of the search accordingly. \n",
        "A recommendation: run the training process, go make yourself a cup of coffee, sit somewhere comfortably and forget about it for a while.\n"
      ],
      "id": "dd634b2b-68af-4db1-b062-1496f8d1179e"
    },
    {
      "cell_type": "markdown",
      "metadata": {
        "id": "c49a11c7-156f-46bb-8bba-be29d1b2ed1a"
      },
      "source": [
        "1- Use RandomizedSearchCV to find the best combination of hyperparameters for a RandomForestClassifier. The validation metric used to evaluate the models should be \"roc_auc\"."
      ],
      "id": "c49a11c7-156f-46bb-8bba-be29d1b2ed1a"
    },
    {
      "cell_type": "code",
      "execution_count": null,
      "metadata": {
        "id": "0cb4c536-82d8-49f8-a0b6-fede491055c1"
      },
      "outputs": [],
      "source": [
        "### Complete in this cell: Use RandomizedSearchCV to find the best combination of hyperparameters for a RandomForestClassifier\n",
        "example_hyperparameter_grid = {\n",
        " 'bootstrap': [True, False],\n",
        " 'max_depth': [10, 50, 100, None],\n",
        " 'max_features': ['auto', 'sqrt'],\n",
        " 'min_samples_leaf': [1, 2, 4],\n",
        " 'min_samples_split': [2, 5, 10],\n",
        " 'n_estimators': [100, 200]\n",
        "}"
      ],
      "id": "0cb4c536-82d8-49f8-a0b6-fede491055c1"
    },
    {
      "cell_type": "code",
      "execution_count": null,
      "metadata": {
        "id": "Q5TwHh22ueQi"
      },
      "outputs": [],
      "source": [
        "RF_model_tnd = RandomForestClassifier(n_jobs=-1, random_state=8)\n",
        "\n",
        "clf = RandomizedSearchCV(RF_model_tnd, example_hyperparameter_grid, scoring=\"roc_auc\", cv=5, random_state=4)\n",
        "search = clf.fit(X_train[:,:-1], X_train[:,-1])"
      ],
      "id": "Q5TwHh22ueQi"
    },
    {
      "cell_type": "code",
      "execution_count": null,
      "metadata": {
        "colab": {
          "base_uri": "https://localhost:8080/"
        },
        "id": "WVzs-OeZvKuK",
        "outputId": "6e55d374-5a7a-4b9a-f1ae-d50b5ac3bd90"
      },
      "outputs": [
        {
          "data": {
            "text/plain": [
              "{'bootstrap': False,\n",
              " 'max_depth': None,\n",
              " 'max_features': 'sqrt',\n",
              " 'min_samples_leaf': 4,\n",
              " 'min_samples_split': 2,\n",
              " 'n_estimators': 200}"
            ]
          },
          "execution_count": 424,
          "metadata": {},
          "output_type": "execute_result"
        }
      ],
      "source": [
        "search.best_params_"
      ],
      "id": "WVzs-OeZvKuK"
    },
    {
      "cell_type": "code",
      "execution_count": null,
      "metadata": {
        "id": "LSrsENk_RUyF"
      },
      "outputs": [],
      "source": [
        "RF_model_tnd = RandomForestClassifier(n_jobs=-1, random_state=8, bootstrap=False, max_depth=None, max_features=\"sqrt\", min_samples_leaf=4, min_samples_split=2, n_estimators=200)"
      ],
      "id": "LSrsENk_RUyF"
    },
    {
      "cell_type": "code",
      "execution_count": null,
      "metadata": {
        "colab": {
          "base_uri": "https://localhost:8080/"
        },
        "id": "N7-rKhuoRpcP",
        "outputId": "3b7f5806-b140-4aff-8628-437a065fb05b"
      },
      "outputs": [
        {
          "output_type": "stream",
          "name": "stdout",
          "text": [
            "0:07:22.707245\n"
          ]
        }
      ],
      "source": [
        "start_time = datetime.now()\n",
        "RF_model_tnd.fit(X_train[:,:-1], X_train[:,-1])\n",
        "end_time = datetime.now()\n",
        "time = end_time-start_time\n",
        "print(time)"
      ],
      "id": "N7-rKhuoRpcP"
    },
    {
      "cell_type": "code",
      "execution_count": null,
      "metadata": {
        "colab": {
          "base_uri": "https://localhost:8080/"
        },
        "id": "kea5SncnRrzW",
        "outputId": "0e33b0f3-9a03-4d1a-814d-557ac9e1f3fa"
      },
      "outputs": [
        {
          "output_type": "execute_result",
          "data": {
            "text/plain": [
              "array([0.06409343, 0.10103589, 0.02148585, ..., 0.05495833, 0.04568155,\n",
              "       0.12092857])"
            ]
          },
          "metadata": {},
          "execution_count": 59
        }
      ],
      "source": [
        "pred2 = RF_model_tnd.predict_proba(X_test)\n",
        "pred2[:,1]"
      ],
      "id": "kea5SncnRrzW"
    },
    {
      "cell_type": "markdown",
      "metadata": {
        "id": "b09205aa-5afc-481a-b45b-d5e80b56d804"
      },
      "source": [
        "2- Use the classifier to predict probabilities on the test set, and save the results to a csv file."
      ],
      "id": "b09205aa-5afc-481a-b45b-d5e80b56d804"
    },
    {
      "cell_type": "code",
      "execution_count": null,
      "metadata": {
        "id": "953f2204-304a-405b-b51b-350f054eb3f4"
      },
      "outputs": [],
      "source": [
        "loans_data_test[\"TARGET\"] = pred2[:,1]\n",
        "resp = loans_data_test[[\"SK_ID_CURR\",\"TARGET\"]]\n",
        "resp.to_csv(\"Random_tuned_model.csv\", index = False)\n",
        "loans_data_test.drop(columns = [\"TARGET\"], inplace=True)"
      ],
      "id": "953f2204-304a-405b-b51b-350f054eb3f4"
    },
    {
      "cell_type": "markdown",
      "metadata": {
        "id": "e645e849-a7e0-43af-b7d1-0b84c29f0e70"
      },
      "source": [
        "3- Load the predictions to the competition. Report the private score here."
      ],
      "id": "e645e849-a7e0-43af-b7d1-0b84c29f0e70"
    },
    {
      "cell_type": "code",
      "execution_count": null,
      "metadata": {
        "colab": {
          "base_uri": "https://localhost:8080/"
        },
        "id": "6oegk2KLR5ro",
        "outputId": "5ba6e087-7227-4b98-c9b4-1c2c888b58c9"
      },
      "outputs": [
        {
          "output_type": "stream",
          "name": "stdout",
          "text": [
            "Successfully submitted to Home Credit Default Risk"
          ]
        }
      ],
      "source": [
        "!kaggle competitions submit -c home-credit-default-risk -f Random_tuned_model.csv -m \"\" -q"
      ],
      "id": "6oegk2KLR5ro"
    },
    {
      "cell_type": "code",
      "execution_count": null,
      "metadata": {
        "colab": {
          "base_uri": "https://localhost:8080/"
        },
        "id": "nsR1S7cqR9Np",
        "outputId": "20a96f45-156e-4949-f14b-32aeba0c3695"
      },
      "outputs": [
        {
          "output_type": "stream",
          "name": "stdout",
          "text": [
            "                 fileName    status  privateScore\n",
            "0  Random_tuned_model.csv  complete       0.72132\n"
          ]
        }
      ],
      "source": [
        "!kaggle competitions submissions -v home-credit-default-risk > SomeFile.csv\n",
        "re = pd.read_csv(\"SomeFile.csv\")\n",
        "print(re.loc[re.fileName ==\"Random_tuned_model.csv\"][[\"fileName\",\"status\",\"privateScore\"]])\n",
        "del re"
      ],
      "id": "nsR1S7cqR9Np"
    },
    {
      "cell_type": "markdown",
      "metadata": {
        "id": "be101430-3682-468d-a43d-8c78f60f96a5"
      },
      "source": [
        "4- If you have the time and resources, you can train the model for longer iterations, or select more estimator sizes. This is optional, but if you, we would love to see your results."
      ],
      "id": "be101430-3682-468d-a43d-8c78f60f96a5"
    },
    {
      "cell_type": "markdown",
      "metadata": {
        "id": "d72e7335-f3cc-410d-81f2-f110f3fbb252"
      },
      "source": [
        "### Optional: Training a LightGBM model "
      ],
      "id": "d72e7335-f3cc-410d-81f2-f110f3fbb252"
    },
    {
      "cell_type": "markdown",
      "metadata": {
        "id": "015d58b7-9f70-4bfb-8b72-20a626e00ea0"
      },
      "source": [
        "Gradient Boosting Machine is one of the most used machine learning algorithms for tabular data. Lots of competitions have been won using models from libraries like XGBoost or LightGBM. You can try using [LightGBM](https://lightgbm.readthedocs.io/en/latest/) to train a new model an see how it performs compared to the other classifiers you trained. "
      ],
      "id": "015d58b7-9f70-4bfb-8b72-20a626e00ea0"
    },
    {
      "cell_type": "code",
      "execution_count": null,
      "metadata": {
        "id": "91d497eb-2b8b-43fe-945e-26a04b8fc004"
      },
      "outputs": [],
      "source": [
        "light_model = LGBMClassifier()"
      ],
      "id": "91d497eb-2b8b-43fe-945e-26a04b8fc004"
    },
    {
      "cell_type": "markdown",
      "metadata": {
        "id": "edWFJ6cZs8xK"
      },
      "source": [
        ""
      ],
      "id": "edWFJ6cZs8xK"
    },
    {
      "cell_type": "code",
      "execution_count": null,
      "metadata": {
        "colab": {
          "base_uri": "https://localhost:8080/"
        },
        "id": "l3SVltxaegn5",
        "outputId": "7bdb0b1b-cfc1-4006-c2bb-8722ce225d36"
      },
      "outputs": [
        {
          "output_type": "execute_result",
          "data": {
            "text/plain": [
              "LGBMClassifier()"
            ]
          },
          "metadata": {},
          "execution_count": 64
        }
      ],
      "source": [
        "light_model.fit(X_train[:,:-1], X_train[:,-1])"
      ],
      "id": "l3SVltxaegn5"
    },
    {
      "cell_type": "code",
      "execution_count": null,
      "metadata": {
        "colab": {
          "base_uri": "https://localhost:8080/"
        },
        "id": "vUvhq7dTem55",
        "outputId": "e120fc1c-db95-4f92-abcd-e3993c0a6c97"
      },
      "outputs": [
        {
          "output_type": "execute_result",
          "data": {
            "text/plain": [
              "array([0.0372326 , 0.11988506, 0.01756002, ..., 0.03934192, 0.06487032,\n",
              "       0.15986821])"
            ]
          },
          "metadata": {},
          "execution_count": 65
        }
      ],
      "source": [
        "pred3 = light_model.predict_proba(X_test)\n",
        "pred3[:,1]"
      ],
      "id": "vUvhq7dTem55"
    },
    {
      "cell_type": "code",
      "execution_count": null,
      "metadata": {
        "id": "d-Ve1eDaey0d"
      },
      "outputs": [],
      "source": [
        "loans_data_test[\"TARGET\"] = pred3[:,1]\n",
        "resp = loans_data_test[[\"SK_ID_CURR\",\"TARGET\"]]\n",
        "resp.to_csv(\"LightGBM_model.csv\", index = False)\n",
        "loans_data_test.drop(columns = [\"TARGET\"], inplace=True)"
      ],
      "id": "d-Ve1eDaey0d"
    },
    {
      "cell_type": "code",
      "execution_count": null,
      "metadata": {
        "colab": {
          "base_uri": "https://localhost:8080/"
        },
        "id": "p7mWWcdte4VW",
        "outputId": "eee6337a-863c-42fa-ee8d-8ce7bb216903"
      },
      "outputs": [
        {
          "output_type": "stream",
          "name": "stdout",
          "text": [
            "Successfully submitted to Home Credit Default Risk"
          ]
        }
      ],
      "source": [
        "!kaggle competitions submit -c home-credit-default-risk -f LightGBM_model.csv -m \"\" -q"
      ],
      "id": "p7mWWcdte4VW"
    },
    {
      "cell_type": "code",
      "execution_count": null,
      "metadata": {
        "colab": {
          "base_uri": "https://localhost:8080/"
        },
        "id": "4Q_4o5c31oze",
        "outputId": "87eac8af-5399-48d5-e350-c8756c57dcd2"
      },
      "outputs": [
        {
          "output_type": "stream",
          "name": "stdout",
          "text": [
            "             fileName    status  privateScore\n",
            "0  LightGBM_model.csv  complete       0.74209\n"
          ]
        }
      ],
      "source": [
        "!kaggle competitions submissions -v home-credit-default-risk > SomeFile.csv\n",
        "re = pd.read_csv(\"SomeFile.csv\")\n",
        "print(re.loc[re.fileName ==\"LightGBM_model.csv\"][[\"fileName\",\"status\",\"privateScore\"]])\n",
        "del re"
      ],
      "id": "4Q_4o5c31oze"
    },
    {
      "cell_type": "markdown",
      "metadata": {
        "id": "c2d1a1f4-5e1e-4982-a6ae-a27b8c11428e"
      },
      "source": [
        "### Optional: Using Scikit Learn Pipelines "
      ],
      "id": "c2d1a1f4-5e1e-4982-a6ae-a27b8c11428e"
    },
    {
      "cell_type": "markdown",
      "metadata": {
        "id": "2e4f95fb-73bf-42c4-97a3-80078f2496aa"
      },
      "source": [
        "So far you've created special functions or blocks or code to chain operations on data and then train the models. But, reproducibility is important, and you don't want to have to remember the correct steps to follow each time you have new data to train your models. There are a lots of tools out there that can help you with that, here you can use a [Sklearn Pipeline](https://scikit-learn.org/stable/modules/generated/sklearn.pipeline.Pipeline.html) to process your data."
      ],
      "id": "2e4f95fb-73bf-42c4-97a3-80078f2496aa"
    },
    {
      "cell_type": "code",
      "execution_count": null,
      "metadata": {
        "id": "ejRveIIDtSwv"
      },
      "outputs": [],
      "source": [
        "X_train = pd.read_csv(\"home-credit-default-risk/application_train.csv\")\n",
        "X_test = pd.read_csv(\"home-credit-default-risk/application_test.csv\")"
      ],
      "id": "ejRveIIDtSwv"
    },
    {
      "cell_type": "code",
      "execution_count": null,
      "metadata": {
        "id": "aE73kt_6tFyA"
      },
      "outputs": [],
      "source": [
        "numeric_transformer = Pipeline(steps=[(\"imputer\", SimpleImputer(strategy=\"median\")), \n",
        "                                      (\"scaler\", QuantileTransformer())])\n",
        "\n",
        "categorical_transformer = Pipeline(steps=[('imputer',SimpleImputer(strategy='most_frequent')),\n",
        "                                          ('encoder',OneHotEncoder(handle_unknown='ignore', drop=\"if_binary\"))])\n",
        "\n",
        "preprocessor = ColumnTransformer(transformers=[(\"num\", numeric_transformer,  selector(dtype_include=np.number)),\n",
        "                                               (\"cat\", categorical_transformer, selector(dtype_include=object))])\n",
        "\n",
        "pipe_model = Pipeline(steps=[(\"preprocessor\", preprocessor), \n",
        "                             (\"classifier\", LGBMClassifier(n_jobs=-1, random_state=8, n_estimators=95, objective=\"binary\"))])"
      ],
      "id": "aE73kt_6tFyA"
    },
    {
      "cell_type": "code",
      "execution_count": null,
      "metadata": {
        "id": "zY40Ws3JuXPB"
      },
      "outputs": [],
      "source": [
        "pipe_model.fit(X_train.drop(columns = [\"TARGET\",\"SK_ID_CURR\"]), X_train[\"TARGET\"]);"
      ],
      "id": "zY40Ws3JuXPB"
    },
    {
      "cell_type": "code",
      "execution_count": null,
      "metadata": {
        "id": "WT1i7wqsv7Pb"
      },
      "outputs": [],
      "source": [
        "pipe_pred = pipe_model.predict_proba(X_test.drop(columns=[\"SK_ID_CURR\"]))[:,1]"
      ],
      "id": "WT1i7wqsv7Pb"
    },
    {
      "cell_type": "code",
      "execution_count": null,
      "metadata": {
        "id": "NRsIlbHuweh3"
      },
      "outputs": [],
      "source": [
        "X_test[\"TARGET\"] = pipe_pred\n",
        "resp = X_test[[\"SK_ID_CURR\",\"TARGET\"]]\n",
        "resp.to_csv(\"lgbm.csv\", index = False)\n",
        "X_test.drop(columns = [\"TARGET\"], inplace=True)"
      ],
      "id": "NRsIlbHuweh3"
    },
    {
      "cell_type": "code",
      "execution_count": null,
      "metadata": {
        "colab": {
          "base_uri": "https://localhost:8080/"
        },
        "id": "rBR1_vd6wpfX",
        "outputId": "f6733981-c274-44b6-9140-7ce6314b2aba"
      },
      "outputs": [
        {
          "output_type": "stream",
          "name": "stdout",
          "text": [
            "Successfully submitted to Home Credit Default Risk"
          ]
        }
      ],
      "source": [
        "!kaggle competitions submit -c home-credit-default-risk -f lgbm.csv -m \"\" -q"
      ],
      "id": "rBR1_vd6wpfX"
    },
    {
      "cell_type": "code",
      "execution_count": null,
      "metadata": {
        "colab": {
          "base_uri": "https://localhost:8080/"
        },
        "id": "5shSr93iwyeJ",
        "outputId": "f8165e17-87e3-4422-8c7f-18ff7e95a491"
      },
      "outputs": [
        {
          "output_type": "stream",
          "name": "stdout",
          "text": [
            "   fileName    status  privateScore\n",
            "0  lgbm.csv  complete       0.74362\n"
          ]
        }
      ],
      "source": [
        "!kaggle competitions submissions -v home-credit-default-risk > SomeFile.csv\n",
        "re = pd.read_csv(\"SomeFile.csv\")\n",
        "print(re.loc[re.fileName ==\"lgbm.csv\"][[\"fileName\",\"status\",\"privateScore\"]])\n",
        "del re"
      ],
      "id": "5shSr93iwyeJ"
    }
  ],
  "metadata": {
    "colab": {
      "collapsed_sections": [],
      "name": "Project_3_Gonzalez_Enzo.ipynb",
      "provenance": [],
      "include_colab_link": true
    },
    "kernelspec": {
      "display_name": "Python 3 (ipykernel)",
      "language": "python",
      "name": "python3"
    },
    "language_info": {
      "codemirror_mode": {
        "name": "ipython",
        "version": 3
      },
      "file_extension": ".py",
      "mimetype": "text/x-python",
      "name": "python",
      "nbconvert_exporter": "python",
      "pygments_lexer": "ipython3",
      "version": "3.8.9"
    }
  },
  "nbformat": 4,
  "nbformat_minor": 5
}